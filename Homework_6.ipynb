{
 "cells": [
  {
   "cell_type": "markdown",
   "metadata": {},
   "source": [
    "## Домашнее задание"
   ]
  },
  {
   "cell_type": "markdown",
   "metadata": {},
   "source": [
    "Рассмотрим граф $G=(V,E)$, вершинам которого случайным образом приписаны значения 0 и 1 так, что смежные вершины не могут одновременно иметь значение 1. Пример расстановки значений по вершинам графа показан на картинке ниже (черные вершины имеют значение 1, белые - 0):"
   ]
  },
  {
   "cell_type": "markdown",
   "metadata": {},
   "source": [
    "![img](http://www.mathematik.uni-ulm.de/stochastik/lehre/ss06/markov/skript_engl/bild4.jpg)"
   ]
  },
  {
   "cell_type": "markdown",
   "metadata": {},
   "source": [
    "Как оценить, сколько в среднем закрашенных вершин будет иметь такой граф?\n",
    "\n",
    "Сформулируем задачу в математических терминах.\n",
    "\n",
    "Пусть $\\xi \\in \\{0,1\\}^{V}$ обозначает конфигурацию графа (расстановку 0 и 1 по вершинам). Назовем конфигурацию допустимой, если вершины, соединенные ребрами, не имеют одновременно значения 1. Пусть $Z_G$ - общее количество допустимых конфигураций. Зададим  распределение на множестве всех конфигураций:\n",
    "$$\\begin{equation*}\n",
    "\\mu(\\xi) = \n",
    " \\begin{cases}\n",
    "   \\frac{1}{Z_G}, &\\text{$\\xi$ - допустимая конфигурация}\\\\\n",
    "   0, &\\text{иначе.}\n",
    " \\end{cases}\n",
    "\\end{equation*}$$\n",
    "Обозначим $n(\\xi)$ - число закрашенных вершин в конфигурации $\\xi$. Тогда\n",
    "$$\n",
    "{\\rm E} n(\\xi) = \\sum\\limits_{x \\in \\{0,1\\}^V} n(x) \\mu(x) = \\frac{1}{Z_G} \\sum\\limits_{x \\in \\{0,1\\}^V} n(x) {\\rm I}_{\\{x - \\text{допустимая} \\}}\n",
    "$$\n",
    "\n",
    "Явно перебирать все $x \\in \\{0,1\\}^{V}$ не представляется возможным. Мы могли бы попробовать оценить ${\\rm E} n(\\xi)$, используя закон больших чилел:\n",
    "$$\n",
    "{\\rm E} n(\\xi) \\approx \\frac{1}{N} \\sum\\limits_{i=1}^{N} n(\\xi), \\text{где $\\xi \\sim \\mu$}\n",
    "$$\n",
    "Но есть проблема: как смоделировать случайную величину из распределения $\\mu$?\n",
    "\n",
    "В этом нам поможет метод MCMC."
   ]
  },
  {
   "cell_type": "markdown",
   "metadata": {},
   "source": [
    "## Задание\n",
    "\n",
    "* Оценить  ${\\rm E} n(\\xi)$ с помощью МСМС для графа 8х8\n",
    "* Обосновать численно и графически стационарность\n",
    "* Построить график распределеиня $n(\\xi)$"
   ]
  },
  {
   "cell_type": "markdown",
   "metadata": {},
   "source": [
    "Вспомогательная функция для раскраски вершин графа в соответствии с переданной маской:"
   ]
  },
  {
   "cell_type": "code",
   "execution_count": 1,
   "metadata": {},
   "outputs": [],
   "source": [
    "import matplotlib.pyplot as plt\n",
    "import numpy as np\n",
    "\n",
    "def plot_grid(narr):\n",
    "    '''Plots 2d lattice with vertices colored in black and red according to given mask.\n",
    "    Vertice is colored black if narr[i, j] == True and red otherwise.\n",
    "    \n",
    "    Parameters\n",
    "    ----------\n",
    "    narr : 2d boolean ndarray\n",
    "        Mask for vertices colors\n",
    "    '''\n",
    "\n",
    "    if narr.dtype != 'bool':\n",
    "        raise ValueError('narr should be a boolean ndarray')\n",
    "    colors = np.empty(narr.shape, dtype='U5')\n",
    "    colors[:] = 'red'\n",
    "    colors[narr] = 'black'\n",
    "    x, y = np.indices((narr.shape))\n",
    "    plt.scatter(x, y, c=colors.ravel())\n",
    "    plt.show()"
   ]
  },
  {
   "cell_type": "code",
   "execution_count": 30,
   "metadata": {},
   "outputs": [
    {
     "data": {
      "image/png": "[encoded data removed]",
      "text/plain": [
       "<Figure size 432x288 with 1 Axes>"
      ]
     },
     "metadata": {
      "needs_background": "light"
     },
     "output_type": "display_data"
    }
   ],
   "source": [
    "size = 2\n",
    "narr = np.random.choice([0, 1], size=size**2).reshape((size, size))\n",
    "\n",
    "plot_grid(narr.astype('bool'))"
   ]
  },
  {
   "cell_type": "code",
   "execution_count": 17,
   "metadata": {},
   "outputs": [],
   "source": [
    "def metroplis(start, value, proposal, niter, nburn=0):\n",
    "    '''Generic Metropolis scheme.\n",
    "    Parameters\n",
    "    ---\n",
    "    start : misc\n",
    "        Initial guess.\n",
    "    value : callable\n",
    "        Function to calculate density (unnormalized) at given point.\n",
    "    proposal : callable\n",
    "        Function to get suggestion on a new point based on a current one.\n",
    "    niter : int\n",
    "        Number of iterations.\n",
    "    nburn : int\n",
    "        Number of initial samples to be skipped.\n",
    "    kwargs : dict\n",
    "        Keywords to be passed in value and proposal.\n",
    "\n",
    "    Return\n",
    "    ---\n",
    "    post : list\n",
    "        List of samples obtained.\n",
    "    '''\n",
    "    current = start\n",
    "    post = [value(current)]\n",
    "    for i in range(niter):\n",
    "        proposed = proposal(current)\n",
    "        p = value(proposed) / (value(current)+1e-5)\n",
    "        if np.random.rand() < p:\n",
    "            current = proposed\n",
    "        post.append(value(current))\n",
    "    return post[nburn:]"
   ]
  },
  {
   "cell_type": "code",
   "execution_count": 18,
   "metadata": {},
   "outputs": [],
   "source": [
    "value = lambda x: x.sum()##Считаем число закрашенных вершин\n",
    "# Соседями считаем графы отличающиеся в одной точке\n",
    "def proposal(X):##Выбераем граф для следующего шага из соседей\n",
    "    s,_ = X.shape\n",
    "    k = True\n",
    "    while k:\n",
    "        pos = np.random.choice(np.arange(0,s), size=2)##Выбераем положение в которой может отличатся сосед\n",
    "        if X[pos[0]][pos[1]] == 1:\n",
    "            X[pos[0]][pos[1]] = 0\n",
    "            k = False\n",
    "        else:\n",
    "            if X[min(pos[0]+1,s-1)][pos[1]]+X[max(pos[0]-1,0)][pos[1]]+X[pos[0]][min(pos[1]+1,s-1)]+X[pos[0]][max(pos[1]-1,0)] == 0:\n",
    "                X[pos[0]][pos[1]] = 1\n",
    "                k = False\n",
    "    return X"
   ]
  },
  {
   "cell_type": "code",
   "execution_count": 81,
   "metadata": {},
   "outputs": [
    {
     "data": {
      "image/png": "[encoded data removed]",
      "text/plain": [
       "<Figure size 432x288 with 1 Axes>"
      ]
     },
     "metadata": {
      "needs_background": "light"
     },
     "output_type": "display_data"
    }
   ],
   "source": [
    "post = metroplis(np.zeros((8,8)), value, proposal, 100000)\n",
    "# print(post)\n",
    "# post = [value(np.array(i)) for i in post]\n",
    "\n",
    "Probability,_,_ = plt.hist(post,bins=np.arange(0,64)-0.5 ,rwidth=0.8, density=True)\n",
    "plt.xlabel('Количество закрашенных вершин')\n",
    "plt.ylabel('Probability')\n",
    "plt.title(r'график распределеиня $n(\\xi)$')\n",
    "plt.show()"
   ]
  },
  {
   "cell_type": "code",
   "execution_count": 85,
   "metadata": {},
   "outputs": [],
   "source": [
    "Probability =  np.array(Probability)"
   ]
  },
  {
   "cell_type": "markdown",
   "metadata": {},
   "source": [
    "Воспользуемся $\\textbf{Законом Больших Чисел}$:"
   ]
  },
  {
   "cell_type": "code",
   "execution_count": 100,
   "metadata": {},
   "outputs": [
    {
     "name": "stdout",
     "output_type": "stream",
     "text": [
      "Среднее значение закрашенных вершин графа: 15.1946\n"
     ]
    }
   ],
   "source": [
    "import random\n",
    "niter = 10000\n",
    "num = list(np.arange(0,63))\n",
    "len(num)\n",
    "S = 0.0\n",
    "for i in range(niter):\n",
    "    S += int(random.choices(num, weights =  Probability)[0])\n",
    "S /=niter\n",
    "print(f'Среднее значение закрашенных вершин графа: {S}')"
   ]
  },
  {
   "cell_type": "markdown",
   "metadata": {},
   "source": [
    "$\\textbf{Gewerke test}$:\n",
    "\n",
    "\n",
    "Разбиваем выборку на начальный и конечный куски $x_s$, $x_e$ и вычисляем статистику t-критерия Стьюдента."
   ]
  },
  {
   "cell_type": "code",
   "execution_count": 54,
   "metadata": {},
   "outputs": [],
   "source": [
    "from scipy import stats\n",
    "def g_test(x, start=0.1, end=0.5):\n",
    "    return stats.ttest_ind(x[:int(len(x) * start)], x[-int(len(x) * end):], equal_var=False)"
   ]
  },
  {
   "cell_type": "markdown",
   "metadata": {},
   "source": [
    "$\\textbf{Критерий Стьюдента}$:\n",
    "\n",
    "$H_0$: Со временем процес достигает стационарного состояния\n",
    "\n",
    "$H_1$: не верно"
   ]
  },
  {
   "cell_type": "code",
   "execution_count": 63,
   "metadata": {},
   "outputs": [
    {
     "data": {
      "image/png": "[encoded data removed]",
      "text/plain": [
       "<Figure size 432x288 with 1 Axes>"
      ]
     },
     "metadata": {
      "needs_background": "light"
     },
     "output_type": "display_data"
    },
    {
     "data": {
      "text/plain": [
       "Ttest_indResult(statistic=-4.197991259819364, pvalue=2.8681729198049025e-05)"
      ]
     },
     "execution_count": 63,
     "metadata": {},
     "output_type": "execute_result"
    }
   ],
   "source": [
    "post = metroplis(np.zeros((8,8)), value, proposal, 10000)\n",
    "plt.plot(post)\n",
    "plt.show()\n",
    "\n",
    "g_test(post)"
   ]
  },
  {
   "cell_type": "code",
   "execution_count": 64,
   "metadata": {},
   "outputs": [
    {
     "data": {
      "text/plain": [
       "Ttest_indResult(statistic=0.49414864971042055, pvalue=0.621292306300857)"
      ]
     },
     "execution_count": 64,
     "metadata": {},
     "output_type": "execute_result"
    }
   ],
   "source": [
    "g_test(post[1000:]) ## начиная с какого-то момента"
   ]
  },
  {
   "cell_type": "markdown",
   "metadata": {},
   "source": [
    "$\\textbf{Вывод: гипотезу стационарности не отвергаем}$"
   ]
  }
 ],
 "metadata": {
  "kernelspec": {
   "display_name": "Python 3",
   "language": "python",
   "name": "python3"
  },
  "language_info": {
   "codemirror_mode": {
    "name": "ipython",
    "version": 3
   },
   "file_extension": ".py",
   "mimetype": "text/x-python",
   "name": "python",
   "nbconvert_exporter": "python",
   "pygments_lexer": "ipython3",
   "version": "3.7.0"
  }
 },
 "nbformat": 4,
 "nbformat_minor": 2
}
