{
 "cells": [
  {
   "cell_type": "code",
   "execution_count": 17,
   "metadata": {},
   "outputs": [
    {
     "data": {
      "text/plain": [
       "array([1., 1., 1.])"
      ]
     },
     "execution_count": 17,
     "metadata": {},
     "output_type": "execute_result"
    }
   ],
   "source": [
    "import numpy as np\n",
    "#Создайте двумерный массив 10x3, заполненный случайными значениями. \n",
    "#В каждой строке выберите значение, наиболее близкое к 0.5.\n",
    "(abs(np.random.random((10,3))-0.5)).min(axis=1)+0.5\n",
    "\n",
    "\n"
   ]
  },
  {
   "cell_type": "code",
   "execution_count": 33,
   "metadata": {},
   "outputs": [
    {
     "data": {
      "text/plain": [
       "[792.536268716622,\n",
       " 20.013747436507362,\n",
       " 8.992854109244485,\n",
       " 148.18589391061812,\n",
       " 16.333692532266316,\n",
       " 44.41206957802071]"
      ]
     },
     "execution_count": 33,
     "metadata": {},
     "output_type": "execute_result"
    }
   ],
   "source": [
    "#Создайте двумерный массив 6x6, заполненный случайными значениями. \n",
    "#Затем сумму по каждой строке поделите на минимальный элемент из столбца с тем же индексом.\n",
    "a=np.random.random((6,6))\n",
    "b=a.min(axis=0)\n",
    "[sum(a[i,:])/b[i] for i in range(6)]\n",
    "\n"
   ]
  },
  {
   "cell_type": "code",
   "execution_count": 39,
   "metadata": {},
   "outputs": [
    {
     "data": {
      "text/plain": [
       "5"
      ]
     },
     "execution_count": 39,
     "metadata": {},
     "output_type": "execute_result"
    }
   ],
   "source": [
    "#На примере массива x = np.array([6, 2, 0, 3, 0, 0, 5, 7, 0]) \n",
    "#найдите максимальный элемент в массиве среди элементов, перед которыми стоит ноль.\n",
    "x = np.array([6, 2, 0, 3, 0, 0, 5, 7, 0])         \n",
    "max([x[i+1] for i in range(len(x)-1) if x[i]==0 and x[i+1]!=0])\n",
    "    "
   ]
  },
  {
   "cell_type": "code",
   "execution_count": 78,
   "metadata": {},
   "outputs": [
    {
     "name": "stdout",
     "output_type": "stream",
     "text": [
      "[2. 2. 2. 2. 1. 4. 1. 1. 2. 1.]\n"
     ]
    }
   ],
   "source": [
    "#Пусть заданы два массива x = np.ones(10) и i = np.array([0, 1, 2, 3, 5, 5, 5, 8]).\n",
    "#Прибавьте единицу к тем элементам массива x, индексы которых указаны в массиве i.\n",
    "#В случае, если некоторый индекс встретился в массиве i несколько раз,\n",
    "#прибавьте к соответствующему элементу массива x число вхождений данного индекса в массив i.\n",
    "\n",
    "x=np.ones(10)\n",
    "i=np.array([0,1,2,3,5,5,5,8])\n",
    "\n",
    "for j in range(len(np.unique(i,return_counts=True)[0])):\n",
    "    x[np.unique(i,return_counts=True)[0][j]]+=np.unique(i,return_counts=True)[1][j]\n",
    "print(x)\n"
   ]
  },
  {
   "cell_type": "code",
   "execution_count": 94,
   "metadata": {},
   "outputs": [
    {
     "name": "stdout",
     "output_type": "stream",
     "text": [
      "{0: [0], 1: [1, 4], 2: [2, 5, 8], 3: [3, 6, 9, 12], 4: [7, 10, 13], 5: [11, 14], 6: [15]}\n"
     ]
    }
   ],
   "source": [
    "#По заданному двумерному массиву размера NxN постройте словарь, \n",
    "#ключи которого - индексы диагоналей, параллельных побочной (нумерация начинается с 0),\n",
    "#а значения - списки элементов исходного массива, лежащих на соответствующих диагоналях.\n",
    "#Решите задачу на примере массива a = np.arange(16).reshape(4, 4), \n",
    "#в результате должен получиться словарь\n",
    "#{0: [0], 1: [1, 4], 2: [2, 5, 8], 3: [3, 6, 9, 12], 4: [7, 10, 13], 5: [11, 14], 6: [15]}.\n",
    "a=np.arange(16).reshape(4, 4)\n",
    "di = dict()\n",
    "for i in range(4):\n",
    "    b=[a[0+j][i-j] for j in range(i+1)]\n",
    "    di[i]=b\n",
    "for i in range(4,7):\n",
    "    b=[a[i-3+j][3-j] for j in range(7-i)]\n",
    "    di[i]=b\n",
    "print(di)"
   ]
  },
  {
   "cell_type": "code",
   "execution_count": 90,
   "metadata": {
    "scrolled": true
   },
   "outputs": [
    {
     "name": "stdout",
     "output_type": "stream",
     "text": [
      "4\n",
      "5\n",
      "6\n"
     ]
    }
   ],
   "source": []
  },
  {
   "cell_type": "code",
   "execution_count": null,
   "metadata": {},
   "outputs": [],
   "source": []
  }
 ],
 "metadata": {
  "kernelspec": {
   "display_name": "Python 3",
   "language": "python",
   "name": "python3"
  },
  "language_info": {
   "codemirror_mode": {
    "name": "ipython",
    "version": 3
   },
   "file_extension": ".py",
   "mimetype": "text/x-python",
   "name": "python",
   "nbconvert_exporter": "python",
   "pygments_lexer": "ipython3",
   "version": "3.7.0"
  }
 },
 "nbformat": 4,
 "nbformat_minor": 2
}
