{
 "cells": [
  {
   "cell_type": "markdown",
   "metadata": {
    "colab_type": "text",
    "id": "elmONJBjB1wZ"
   },
   "source": [
    "# Topic Modeling and Gibbs Sampling"
   ]
  },
  {
   "cell_type": "markdown",
   "metadata": {
    "colab_type": "text",
    "id": "ke8yIh3yC-yw"
   },
   "source": [
    "Задача: описать текст через распределение весов по некоторому фиксированному набору топиков (тегов). Например, для набора тегов Политика, Военные сражения, Спорт, Интернет, Драма представить роман \"Война и мир\" как вектор (0.3, 0.2, 0, 0, 0.5), а статью в газете про допинг в велоспорте как вектор (0.1, 0, 0.7, 0, 0.2).\n",
    "\n",
    "Для чего, например, это нужно: имея векторное представление для текстов, тексты можно сравнивать, рекомендовать похожие.\n",
    "\n",
    "Условие: даны только набор текстов и количество тем."
   ]
  },
  {
   "cell_type": "markdown",
   "metadata": {
    "colab_type": "text",
    "id": "XJdIgvb5B1wd"
   },
   "source": [
    "## Немного теории"
   ]
  },
  {
   "cell_type": "markdown",
   "metadata": {
    "colab_type": "text",
    "id": "mipLvBaZB1we"
   },
   "source": [
    "Будем представлять текст как неупорядоченный набор слов (Bag-of-words model). Предположим, что имеется K тегов и для каждого тега выбрано распределение $\\phi_k$ над списком всевозможных слов (словарем из N слов). По сути, каждое $\\phi_k$ - это вектор длины N из неотрицательных величин, в сумме дающих 1. Вектора $\\phi_k$ независимы и моделируются распредеделением Дирихле $Dir(\\beta)$. Теперь, чтобы собрать текст d из $n$ слов, будем действовать по следующей схеме:\n",
    "\n",
    "\n",
    "* выберем распредление для тегов $\\theta_d$. Вновь, $\\theta_d$ - это вектор длины K из неотрицательных величин, в сумме дающих 1. Поэтому естественно брать $\\theta_d \\sim Dir(\\theta | \\alpha)$\n",
    "\n",
    "* Для i от 1 до n:\n",
    "  * выберем тег $z_i$ согласно распределению $\\theta_d$\n",
    "  * выберем слово $w_i$ из распределения для данного тега, т.е. $w_i \\sim \\phi_{z_i}$\n",
    "  * добавляем слово $w_i$ в текст.\n",
    "\n",
    "Полученная модель называется моделью LDA (Latent Dirichlet Allocation). Описанная  схема задает совместное распределение скрытых и наблюдаемых параметров по всем текстам корпуса размера M в виде:\n",
    "\n",
    "\n",
    "$p(\\textbf{w}, \\textbf{z}, \\theta, \\phi | \\alpha, \\beta) = Dir(\\theta | \\alpha) Dir(\\phi|\\beta)Cat(\\textbf{z}|\\theta)Cat(\\textbf{w}|\\phi_z)$.\n",
    "\n",
    "Здесь $\\textbf{w}$ и $\\textbf{z}$ обозначают вектора слов и тегов по всем текстам, $\\theta$ - набор из $\\theta_d$ для каждого документа (матрица $M\\times K$), $\\phi$ - набор из $\\phi_k$ для каждого тега (матрица $K\\times N$).\n"
   ]
  },
  {
   "cell_type": "markdown",
   "metadata": {
    "colab_type": "text",
    "id": "D9yKUGWnXCYm"
   },
   "source": [
    "![img](https://www.researchgate.net/publication/336065245/figure/fig1/AS:807371718815752@1569503826964/Latent-Dirichlet-allocation-LDA-process-and-its-two-outputs-a-LDA-document.ppm)"
   ]
  },
  {
   "cell_type": "markdown",
   "metadata": {
    "colab_type": "text",
    "id": "hiXKW7NQWeO8"
   },
   "source": [
    "Наша задача - восстановить распределение $p(\\textbf{z}, \\theta, \\phi | \\textbf{w}, \\alpha, \\beta)$.\n",
    "\n",
    "\n",
    "Немного упростим жизнь, и поставим себе задачей восстановить распределение $p(\\textbf{z} | \\textbf{w}, \\alpha, \\beta) = \\int\\int p(\\textbf{z}, \\theta, \\phi | \\textbf{w}, \\alpha, \\beta)\\textrm{d}\\theta\\textrm{d}\\phi$.\n",
    "\n",
    "В этот момент на помощь приходить алгоритм Gibbs Sampling. Напомним, для оценки набора парамеров $\\textbf{z} = (z_1, z_2, ..., z_m)$ используется схема:\n",
    "\n",
    "$z_i^{(t)} \\sim p(z_i^{(t)}\\ | \\ z_1=z_1^{t}, ..., z_{i-1}=z_{i-1}^{t},\n",
    "z_{i+1}=z_{i+1}^{t-1}, z_{m}=z_{m}^{t-1})$."
   ]
  },
  {
   "cell_type": "markdown",
   "metadata": {
    "colab_type": "text",
    "id": "aQeReuG_aDI7"
   },
   "source": [
    "Условные распределения выводятся так. Сначала замечаем, что\n",
    "\n",
    "$p(z_i|\\textbf{z}_{\\hat{i}}, \\textbf{w}, \\alpha, \\beta) = \\frac{p(z_i,\\textbf{z}_{\\hat{i}}, \\textbf{w}| \\alpha, \\beta)}{p(\\textbf{z}_{\\hat{i}}, \\textbf{w}| \\alpha, \\beta)}  = \\frac{p(\\textbf{z}, \\textbf{w}| \\alpha, \\beta)}{p(\\textbf{z}_{\\hat{i}}, \\textbf{w}_{\\hat{i}}| \\alpha, \\beta)  p(w_i|\\alpha, \\beta)}$.\n",
    "\n",
    "Здесь $\\textbf{z}_{\\hat{i}}$, $\\textbf{w}_{\\hat{i}}$ - вектора без $i$-oй копмоненты. "
   ]
  },
  {
   "cell_type": "markdown",
   "metadata": {
    "colab_type": "text",
    "id": "yA0r2c_ob2c9"
   },
   "source": [
    "Далее расписываем:\n",
    "\n",
    "$p(\\textbf{z}, \\textbf{w}| \\alpha, \\beta) = \\int\\int p(\\textbf{z}, \\textbf{w}, \\theta, \\phi| \\alpha, \\beta)\\textrm{d}\\theta\\textrm{d}\\phi = \\int\\int Dir(\\theta | \\alpha) Dir(\\phi|\\beta)Cat(\\textbf{z}|\\theta)Cat(\\textbf{w}|\\phi_z)\\textrm{d}\\theta\\textrm{d}\\phi = \n",
    "\\int Dir(\\theta | \\alpha) Cat(\\textbf{z}|\\theta)\\textrm{d}\\theta \\int Dir(\\phi|\\beta)Cat(\\textbf{w}|\\phi_z)\\textrm{d}\\phi$\n",
    "\n",
    "и обнаруживаем, что оба интеграла в последнем выражении вычисляются аналитически. Для примера первый:\n",
    "\n",
    "$\\int Dir(\\theta | \\alpha) Cat(\\textbf{z}|\\theta)\\textrm{d}\\theta = \\prod\\limits_d \\int Dir(\\theta_d | \\alpha) Cat(\\textbf{z}_d|\\theta_d)\\textrm{d}\\theta_d = \\prod\\limits_d \\int \\frac{1}{B(\\alpha)}\\prod\\limits_k \\theta_{d, k}^{\\alpha-1}\\prod\\limits_i \\theta_{d, z_i}\\textrm{d}\\theta_d = \\prod\\limits_d\\frac{1}{B(\\alpha)}\\int\\prod\\limits_k \\theta_{d, k}^{n_{d, k} + \\alpha - 1}\\textrm{d}\\theta_d = \\prod\\limits_d \\frac{B(n_{d,\\cdot} + \\alpha)}{B(\\alpha)}$.\n",
    "\n",
    "Здесь  $n_{d,k}$ - количество тэгов $k$ в тексте $d$, $n_{d,\\cdot}$ - вектор длины $K$ из этих величин.\n",
    "\n",
    "Аналогично, второй интеграл \n",
    "$\\int Dir(\\phi|\\beta)Cat(\\textbf{w}|\\phi_z)\\textrm{d}\\phi = \\prod\\limits_k \\frac{B(n_{k,\\cdot} + \\beta)}{B(\\beta)}$,\n",
    "\n",
    "где $n_{k,\\cdot}$ - вектор длины $N$ встречаемости слов внутри тэга $k$.\n",
    "\n",
    "Получаем: \n",
    "\n",
    "$p(\\textbf{z}, \\textbf{w}| \\alpha, \\beta) = \\prod\\limits_d \\frac{B(n_{d,\\cdot} + \\alpha)}{B(\\alpha)} \\prod\\limits_k \\frac{B(n_{k,\\cdot} + \\beta)}{B(\\beta)}$.\n",
    "\n",
    "Теперь\n",
    "$p(z_i|\\textbf{z}_{\\hat{i}}, \\textbf{w}, \\alpha, \\beta) \\propto \\prod\\limits_d \\frac{B(n_{d,\\cdot} + \\alpha)}{B(n_{d,\\cdot}^{\\hat{i}} + \\alpha)} \\prod\\limits_k \\frac{B(n_{k,\\cdot} + \\beta)}{B(n_{k,\\cdot}^{\\hat{i}} + \\beta)}$.\n",
    "\n",
    "Знак $\\propto$ означает пропорциональность с точностью до общего множителя $p(w_i|\\alpha, \\beta)$. Векторы $n_{d,\\cdot}^{\\hat{i}}$ и $n_{k,\\cdot}^{\\hat{i}}$ получены из векторов $n_{d,\\cdot}$ и $n_{k,\\cdot}$ после выбрасывания $z_i$. \n",
    "\n",
    "Выражение упрощается дальше, расписывая бета-функцию через гамма-функции. Напомним,\n",
    "$B(x_1, ..., x_m) = \\frac{\\Gamma(x_1)\\cdot...\\cdot\\Gamma(x_m)}{\\Gamma(x_1 + ... + x_m)}$, а также $\\Gamma(n) = (n-1)\\Gamma(n-1)$. Получим:\n",
    "\n",
    "$p(z_i=k |\\textbf{z}_{\\hat{i}}, \\textbf{w}, \\alpha, \\beta) \\propto (n_{d_i, k}^{\\hat{i}} + \\alpha_k) \\frac{n_{k, w_i}^{\\hat{i}} + \\beta_{w_i}}{\\sum\\limits_{w}(n_{k, w}^{\\hat{i}} + \\beta_{w})}$.\n"
   ]
  },
  {
   "cell_type": "markdown",
   "metadata": {
    "colab_type": "text",
    "id": "NiYEQ_IkZUim"
   },
   "source": [
    "С этого места можно полностью собрать алгоритм моделирования плотности $p(\\textbf{z}| \\textbf{w}, \\alpha, \\beta)$. Введем  обозначение $n_k$ - количество слов, отнесенных к тегу $k$, $W$ - общее количество слов в корпусе, $\\beta_{sum} = \\sum\\limits_w\\beta_w$\n",
    "\n",
    "Алгоритм:\n",
    "\n",
    "* заведем счетчики $n_{k, w}$, $n_{d, k}$, $n_k$\n",
    "* случайным образом расставим теги словам, обновим счетчики $n_{k, w}$, $n_{d, k}$, $n_k$\n",
    "* пока не сойдемся к стационарному режиму:\n",
    "  * для каждого $i$ от 1 до $W$:\n",
    "      * для каждого $k$ от 1 до $K$:\n",
    "        * $I = I\\{z_i = k\\}$ (индикатор)\n",
    "        * вычисляем $p_k = (n_{d_i, k} + \\alpha_k - I) \\frac{n_{k, w_i} + \\beta_{w_i} - I}{n_k + \\beta_{sum} - I}$\n",
    "      * сэмплим новый $z_i$ из полученного распределения $(p_1, ..., p_K)$\n",
    "      * обновляем счетчики для учета обновленого значения $z_i$\n",
    "\n",
    "На практике удобно реализовавать так:\n",
    "\n",
    "* заведем счетчики $n_{k, w}$, $n_{d, k}$, $n_k$, заполненные нулями\n",
    "* случайным образом расставим теги словам, обновим счетчики $n_{k, w}$, $n_{d, k}$, $n_k$\n",
    "* пока не сойдемся к стационарному режиму:\n",
    "  * для каждого $i$ от 1 до $W$:\n",
    "      * $n_{d_i, z_i} \\mathrel{-}= 1$, $n_{z_i, w_i} \\mathrel{-}= 1$, $n_{z_i} \\mathrel{-}= 1$\n",
    "      * для каждого $k$ от 1 до $K$:\n",
    "        * вычисляем $p_k = (n_{d, k} + \\alpha_k) \\frac{n_{k, w_i} + \\beta_{w_i}}{n_k + \\beta_{sum}}$\n",
    "      * сэмплим новый $z_i$ из полученного распределения $(p_1, ..., p_K)$\n",
    "      * $n_{d_i, z_i} \\mathrel{+}= 1$, $n_{z_i, w_i} \\mathrel{+}= 1$, $n_{z_i} \\mathrel{+}= 1$\n",
    "\n",
    "\n",
    "\n"
   ]
  },
  {
   "cell_type": "markdown",
   "metadata": {
    "colab_type": "text",
    "id": "eaV85RF1gd6l"
   },
   "source": [
    "Восстановив распредление для $\\textbf{z}$, можем оценить $\\theta$ и $\\phi$, о которых мы ненадолго забыли. Оценить можно, например, через матожидание по апостериорным распределениям. Получите формулы самостоятельно!"
   ]
  },
  {
   "cell_type": "markdown",
   "metadata": {
    "colab_type": "text",
    "id": "K13WQakft3kk"
   },
   "source": [
    "Литература:\n",
    "\n",
    "http://u.cs.biu.ac.il/~89-680/darling-lda.pdf\n",
    "\n",
    "https://www.cs.cmu.edu/~mgormley/courses/10701-f16/slides/lecture20-topic-models.pdf"
   ]
  },
  {
   "cell_type": "markdown",
   "metadata": {
    "colab_type": "text",
    "id": "S1M8TVaPiIwd"
   },
   "source": [
    "Перейдем к практике."
   ]
  },
  {
   "cell_type": "markdown",
   "metadata": {
    "colab_type": "text",
    "id": "KKGHWSSiB1we"
   },
   "source": [
    "## Датасет\n",
    "\n",
    "Возьмем популярный датасет [20 Newsgroups](http://qwone.com/~jason/20Newsgroups/), встроенный в пакет ```sklearn```. Датасет состоит из ~20К текстов, классифицированных на 20 категорий. Датасет разбит на ```train``` и ```test```. Для загрузки используем  модуль ```fetch_20newsgroups```, в параметрах указать, что мета информацию о тексте загружать не нужно:"
   ]
  },
  {
   "cell_type": "code",
   "execution_count": 1,
   "metadata": {
    "colab": {
     "base_uri": "https://localhost:8080/",
     "height": 51
    },
    "colab_type": "code",
    "id": "ghK1srgpB1wf",
    "outputId": "a64b1478-d337-44eb-8413-841ea0f70888"
   },
   "outputs": [],
   "source": [
    "import numpy as np\n",
    "from sklearn.datasets import fetch_20newsgroups\n",
    "\n",
    "newsgroups_train = fetch_20newsgroups(subset='train', remove=('headers', 'footers', 'quotes'))"
   ]
  },
  {
   "cell_type": "markdown",
   "metadata": {
    "colab_type": "text",
    "id": "_BSEchmRB1wh"
   },
   "source": [
    "Выведем список категорий текстов:"
   ]
  },
  {
   "cell_type": "code",
   "execution_count": 2,
   "metadata": {
    "colab": {
     "base_uri": "https://localhost:8080/",
     "height": 363
    },
    "colab_type": "code",
    "id": "lR3knXluB1wi",
    "outputId": "d6b41c1a-21d8-4baf-de17-f6c8f7ce8f1f"
   },
   "outputs": [
    {
     "data": {
      "text/plain": [
       "['alt.atheism',\n",
       " 'comp.graphics',\n",
       " 'comp.os.ms-windows.misc',\n",
       " 'comp.sys.ibm.pc.hardware',\n",
       " 'comp.sys.mac.hardware',\n",
       " 'comp.windows.x',\n",
       " 'misc.forsale',\n",
       " 'rec.autos',\n",
       " 'rec.motorcycles',\n",
       " 'rec.sport.baseball',\n",
       " 'rec.sport.hockey',\n",
       " 'sci.crypt',\n",
       " 'sci.electronics',\n",
       " 'sci.med',\n",
       " 'sci.space',\n",
       " 'soc.religion.christian',\n",
       " 'talk.politics.guns',\n",
       " 'talk.politics.mideast',\n",
       " 'talk.politics.misc',\n",
       " 'talk.religion.misc']"
      ]
     },
     "execution_count": 2,
     "metadata": {},
     "output_type": "execute_result"
    }
   ],
   "source": [
    "newsgroups_train.target_names"
   ]
  },
  {
   "cell_type": "markdown",
   "metadata": {
    "colab_type": "text",
    "id": "unhqlZciB1wl"
   },
   "source": [
    "Атрибут ```traget``` хранит номера категорий для текстов из обучающей выборки:"
   ]
  },
  {
   "cell_type": "code",
   "execution_count": 3,
   "metadata": {
    "colab": {
     "base_uri": "https://localhost:8080/",
     "height": 34
    },
    "colab_type": "code",
    "id": "PNjAq0D4B1wl",
    "outputId": "97f526ec-c9f7-466d-aee7-2df3428b26a9"
   },
   "outputs": [
    {
     "data": {
      "text/plain": [
       "array([ 7,  4,  4,  1, 14, 16, 13,  3,  2,  4])"
      ]
     },
     "execution_count": 3,
     "metadata": {},
     "output_type": "execute_result"
    }
   ],
   "source": [
    "newsgroups_train.target[:10]"
   ]
  },
  {
   "cell_type": "markdown",
   "metadata": {
    "colab_type": "text",
    "id": "OjzuWGdBB1wp"
   },
   "source": [
    "Доступ к самим текстам через атрибут ```data```. Выведем текст и категорию случайного примера из обучающего датасета:"
   ]
  },
  {
   "cell_type": "code",
   "execution_count": 4,
   "metadata": {
    "colab": {
     "base_uri": "https://localhost:8080/",
     "height": 259
    },
    "colab_type": "code",
    "id": "etlhxjk0B1wq",
    "outputId": "56847531-dd5f-4ad8-dcac-28c83b2a4c4b"
   },
   "outputs": [
    {
     "name": "stdout",
     "output_type": "stream",
     "text": [
      "Topic = rec.motorcycles\n",
      "\n",
      "hey... I'm pretty new to the wonderful world of motorcycles... I just\n",
      "bought\n",
      "a used 81 Kaw KZ650 CSR from a friend.... I was just wondering what kind of\n",
      "\n",
      "saddle bags I could get for it (since I know nothing about them)  are there\n",
      "bags for the gas tank?  how much would some cost, and how much do they\n",
      "hold?\n",
      "thanks for your advice!!!  I may be new to riding, but I love it\n",
      "already!!!!\n",
      ":)\n",
      "\n",
      "\n"
     ]
    }
   ],
   "source": [
    "n = 854\n",
    "print('Topic = {0}\\n'.format(newsgroups_train.target_names[newsgroups_train.target[n]]))\n",
    "print(newsgroups_train.data[n])"
   ]
  },
  {
   "cell_type": "markdown",
   "metadata": {
    "colab_type": "text",
    "id": "fLheZ8pTB1wx"
   },
   "source": [
    "## Векторное представление текста\n",
    "\n",
    "Представим текст как вектор индикаторов вхождений слов из некоторого словаря в текст. Это простейшая модель BOF. \n",
    "\n",
    "Сформируем словарь на основе нашего набора текстов. Для этого используем модуль ```CountVectorizer```:"
   ]
  },
  {
   "cell_type": "code",
   "execution_count": 5,
   "metadata": {
    "colab": {
     "base_uri": "https://localhost:8080/",
     "height": 259
    },
    "colab_type": "code",
    "id": "-eXBAq3SB1wy",
    "outputId": "37dca253-a58a-4390-af8f-43a8d751366d",
    "scrolled": true
   },
   "outputs": [
    {
     "data": {
      "text/plain": [
       "CountVectorizer(analyzer='word', binary=True, decode_error='strict',\n",
       "        dtype=<class 'numpy.int64'>, encoding='utf-8', input='content',\n",
       "        lowercase=True, max_df=0.09, max_features=None, min_df=8,\n",
       "        ngram_range=(1, 1), preprocessor=None,\n",
       "        stop_words=frozenset({'she', 'cry', 'hereupon', 'everyone', 'themselves', 'between', 'also', 'for', 'who', 'there', 'eg', 'seeming', 'or', 'so', 'beside', 'the', 'hundred', 'describe', 'see', 'we', 'few', 'same', 'otherwise', 'at', 'interest', 'may', 'every', 'namely', 'among', 'how', 'everywhere', ...'elsewhere', 'him', 'thence', 'bottom', 'nevertheless', 'from', 'another', 'sometime', 'each', 'a'}),\n",
       "        strip_accents=None, token_pattern='(?u)\\\\b\\\\w\\\\w+\\\\b',\n",
       "        tokenizer=None, vocabulary=None)"
      ]
     },
     "execution_count": 5,
     "metadata": {},
     "output_type": "execute_result"
    }
   ],
   "source": [
    "from sklearn.feature_extraction.text import CountVectorizer\n",
    "from sklearn.feature_extraction.stop_words import ENGLISH_STOP_WORDS\n",
    "\n",
    "vectorizer = CountVectorizer(lowercase=True, stop_words=ENGLISH_STOP_WORDS,\n",
    "                             analyzer='word', binary=True,min_df = 8,max_df = 0.09)\n",
    "vectorizer.fit(newsgroups_train.data)"
   ]
  },
  {
   "cell_type": "markdown",
   "metadata": {
    "colab_type": "text",
    "id": "WYt0K78cB1w0"
   },
   "source": [
    "Количество проиндексированных слов:"
   ]
  },
  {
   "cell_type": "code",
   "execution_count": 6,
   "metadata": {
    "colab": {
     "base_uri": "https://localhost:8080/",
     "height": 34
    },
    "colab_type": "code",
    "id": "RjjRR9cTB1w1",
    "outputId": "bd25d0e9-8c2d-437f-e49e-207ca482cc1b"
   },
   "outputs": [
    {
     "data": {
      "text/plain": [
       "12424"
      ]
     },
     "execution_count": 6,
     "metadata": {},
     "output_type": "execute_result"
    }
   ],
   "source": [
    "len(vectorizer.vocabulary_)"
   ]
  },
  {
   "cell_type": "markdown",
   "metadata": {
    "colab_type": "text",
    "id": "rDTu6nCHB1xJ"
   },
   "source": [
    "Проиндексированные слова и их индексы:"
   ]
  },
  {
   "cell_type": "code",
   "execution_count": 7,
   "metadata": {
    "colab": {
     "base_uri": "https://localhost:8080/",
     "height": 1000
    },
    "colab_type": "code",
    "id": "0TRxTcoeB1xK",
    "outputId": "56f0a281-46ea-488d-9763-0e288c186069"
   },
   "outputs": [
    {
     "data": {
      "text/plain": [
       "{'wondering': 12203,\n",
       " 'enlighten': 4343,\n",
       " 'car': 2383,\n",
       " 'saw': 9905,\n",
       " 'day': 3498,\n",
       " 'door': 3999,\n",
       " 'sports': 10570,\n",
       " 'looked': 6919,\n",
       " 'late': 6659,\n",
       " '60s': 694,\n",
       " 'early': 4135,\n",
       " '70s': 766,\n",
       " 'called': 2331,\n",
       " 'doors': 4000,\n",
       " 'small': 10397,\n",
       " 'addition': 1082,\n",
       " 'bumper': 2246,\n",
       " 'separate': 10091,\n",
       " 'rest': 9555,\n",
       " 'body': 2052,\n",
       " 'model': 7438,\n",
       " 'engine': 4327,\n",
       " 'specs': 10528,\n",
       " 'years': 12355,\n",
       " 'production': 8836,\n",
       " 'history': 5640,\n",
       " 'info': 6041,\n",
       " 'looking': 6920,\n",
       " 'mail': 7041,\n",
       " 'fair': 4674,\n",
       " 'number': 7849,\n",
       " 'brave': 2144,\n",
       " 'souls': 10480,\n",
       " 'upgraded': 11710,\n",
       " 'si': 10257,\n",
       " 'clock': 2717,\n",
       " 'oscillator': 8083,\n",
       " 'shared': 10169,\n",
       " 'experiences': 4563,\n",
       " 'poll': 8586,\n",
       " 'send': 10071,\n",
       " 'brief': 2171,\n",
       " 'message': 7287,\n",
       " 'detailing': 3718,\n",
       " 'procedure': 8814,\n",
       " 'speed': 10534,\n",
       " 'cpu': 3290,\n",
       " 'rated': 9181,\n",
       " 'add': 1078,\n",
       " 'cards': 2391,\n",
       " 'adapters': 1075,\n",
       " 'heat': 5559,\n",
       " 'sinks': 10318,\n",
       " 'hour': 5734,\n",
       " 'usage': 11734,\n",
       " 'floppy': 4897,\n",
       " 'disk': 3889,\n",
       " 'functionality': 5079,\n",
       " '800': 805,\n",
       " 'floppies': 4896,\n",
       " 'especially': 4425,\n",
       " 'requested': 9495,\n",
       " 'summarizing': 10866,\n",
       " 'days': 3500,\n",
       " 'network': 7723,\n",
       " 'knowledge': 6572,\n",
       " 'base': 1805,\n",
       " 'upgrade': 11709,\n",
       " 'haven': 5520,\n",
       " 'answered': 1374,\n",
       " 'folks': 4922,\n",
       " 'mac': 7012,\n",
       " 'plus': 8548,\n",
       " 'finally': 4818,\n",
       " 'gave': 5147,\n",
       " 'ghost': 5217,\n",
       " 'weekend': 12078,\n",
       " 'starting': 10637,\n",
       " 'life': 6806,\n",
       " '512k': 635,\n",
       " '1985': 230,\n",
       " 'market': 7123,\n",
       " 'machine': 7015,\n",
       " 'bit': 1982,\n",
       " 'sooner': 10471,\n",
       " 'intended': 6159,\n",
       " 'picking': 8445,\n",
       " 'powerbook': 8658,\n",
       " '160': 127,\n",
       " 'maybe': 7184,\n",
       " '180': 155,\n",
       " 'bunch': 2247,\n",
       " 'questions': 9083,\n",
       " 'hopefully': 5703,\n",
       " 'somebody': 10461,\n",
       " 'answer': 1373,\n",
       " 'anybody': 1385,\n",
       " 'dirt': 3826,\n",
       " 'round': 9753,\n",
       " 'expected': 4553,\n",
       " 'heard': 5554,\n",
       " 'supposed': 10906,\n",
       " 'summer': 10868,\n",
       " 'anymore': 1386,\n",
       " 'access': 996,\n",
       " 'rumors': 9797,\n",
       " 'price': 8765,\n",
       " 'drops': 4073,\n",
       " 'line': 6837,\n",
       " 'ones': 7987,\n",
       " 'duo': 4103,\n",
       " 'went': 12092,\n",
       " 'recently': 9259,\n",
       " 'impression': 5930,\n",
       " 'display': 3898,\n",
       " 'probably': 8808,\n",
       " 'swing': 10968,\n",
       " 'got': 5292,\n",
       " '80mb': 815,\n",
       " '120': 71,\n",
       " 'feel': 4761,\n",
       " 'better': 1933,\n",
       " 'yea': 12351,\n",
       " 'looks': 6921,\n",
       " 'great': 5347,\n",
       " 'store': 10717,\n",
       " 'wow': 12244,\n",
       " 'opinions': 8014,\n",
       " 'worth': 12236,\n",
       " 'taking': 11031,\n",
       " 'size': 10336,\n",
       " 'money': 7471,\n",
       " 'hit': 5641,\n",
       " 'active': 1058,\n",
       " 'realize': 9229,\n",
       " 'real': 9223,\n",
       " 'subjective': 10799,\n",
       " 'question': 9079,\n",
       " 'played': 8527,\n",
       " 'machines': 7017,\n",
       " 'computer': 2949,\n",
       " 'figured': 4800,\n",
       " 'actually': 1066,\n",
       " 'uses': 11743,\n",
       " 'daily': 3448,\n",
       " 'prove': 8939,\n",
       " 'helpful': 5585,\n",
       " 'perform': 8351,\n",
       " 'advance': 1126,\n",
       " 'email': 4246,\n",
       " 'll': 6877,\n",
       " 'post': 8634,\n",
       " 'summary': 10867,\n",
       " 'news': 7737,\n",
       " 'reading': 9217,\n",
       " 'premium': 8716,\n",
       " 'finals': 4819,\n",
       " 'corner': 3219,\n",
       " 'tom': 11310,\n",
       " 'willis': 12132,\n",
       " 'ecn': 4158,\n",
       " 'purdue': 9006,\n",
       " 'edu': 4180,\n",
       " 'electrical': 4222,\n",
       " 'engineering': 4330,\n",
       " 'weitek': 12087,\n",
       " 'address': 1088,\n",
       " 'phone': 8423,\n",
       " 'information': 6045,\n",
       " 'chip': 2592,\n",
       " 'article': 1526,\n",
       " 'world': 12224,\n",
       " 'std': 10663,\n",
       " 'com': 2809,\n",
       " 'baker': 1768,\n",
       " 'understanding': 11628,\n",
       " 'errors': 4410,\n",
       " 'basically': 1814,\n",
       " 'known': 6574,\n",
       " 'bugs': 2229,\n",
       " 'warning': 12015,\n",
       " 'software': 10439,\n",
       " 'things': 11210,\n",
       " 'checked': 2563,\n",
       " 'values': 11802,\n",
       " 'aren': 1474,\n",
       " 'set': 10119,\n",
       " 'till': 11267,\n",
       " 'launch': 6670,\n",
       " 'fix': 4857,\n",
       " 'code': 2760,\n",
       " 'possibly': 8633,\n",
       " 'introduce': 6227,\n",
       " 'tell': 11116,\n",
       " 'crew': 3326,\n",
       " 'ok': 7971,\n",
       " '213': 301,\n",
       " 'liftoff': 6813,\n",
       " 'ignore': 5846,\n",
       " 'course': 3271,\n",
       " 'term': 11141,\n",
       " 'defined': 3591,\n",
       " 'doubt': 4013,\n",
       " 'using': 11744,\n",
       " 'quote': 9097,\n",
       " 'allegedly': 1254,\n",
       " 'read': 9212,\n",
       " 'presenting': 8732,\n",
       " 'argument': 1485,\n",
       " 'weapons': 12064,\n",
       " 'mass': 7148,\n",
       " 'destruction': 3714,\n",
       " 'commonly': 2860,\n",
       " 'understood': 11630,\n",
       " 'switching': 10973,\n",
       " 'topics': 11327,\n",
       " 'point': 8562,\n",
       " 'evidently': 4475,\n",
       " 'allowed': 1267,\n",
       " 'later': 6661,\n",
       " 'analysis': 1325,\n",
       " 'given': 5231,\n",
       " 'consider': 3053,\n",
       " 'class': 2678,\n",
       " 'responded': 9547,\n",
       " 'request': 9494,\n",
       " 'treatment': 11440,\n",
       " 'couldn': 3252,\n",
       " 'thank': 11180,\n",
       " 'directly': 3821,\n",
       " 'bouncing': 2111,\n",
       " 'sean': 9996,\n",
       " 'sharon': 10174,\n",
       " 'thought': 11223,\n",
       " 'publicly': 8978,\n",
       " 'sure': 10912,\n",
       " 'glad': 5239,\n",
       " 'accidentally': 1004,\n",
       " 'rn': 9687,\n",
       " 'instead': 6124,\n",
       " 'rm': 9686,\n",
       " 'trying': 11496,\n",
       " 'delete': 3607,\n",
       " 'file': 4804,\n",
       " 'september': 10098,\n",
       " 'hmmm': 5653,\n",
       " 'shows': 10250,\n",
       " 'scsi': 9983,\n",
       " 'controler': 3149,\n",
       " 'range': 9160,\n",
       " '5mb': 677,\n",
       " 'controller': 3151,\n",
       " '6mb': 747,\n",
       " '10mb': 54,\n",
       " 'burst': 2263,\n",
       " 'note': 7810,\n",
       " 'increase': 5975,\n",
       " 'quadra': 9056,\n",
       " 'version': 11855,\n",
       " 'exist': 4532,\n",
       " 'pc': 8307,\n",
       " 'mode': 7437,\n",
       " '16': 126,\n",
       " 'wide': 12115,\n",
       " 'fast': 4713,\n",
       " '12mb': 85,\n",
       " '20mb': 294,\n",
       " '32': 445,\n",
       " '15': 113,\n",
       " '40mb': 556,\n",
       " 'data': 3481,\n",
       " 'twice': 11530,\n",
       " 'esdi': 4422,\n",
       " 'correct': 3229,\n",
       " 'reach': 9202,\n",
       " '20': 280,\n",
       " 'faster': 4714,\n",
       " 'ide': 5817,\n",
       " '96': 876,\n",
       " 'facts': 4663,\n",
       " 'posted': 8637,\n",
       " 'newsgroup': 7738,\n",
       " 'ibm': 5805,\n",
       " 'sheet': 10184,\n",
       " 'available': 1696,\n",
       " 'ftp': 5063,\n",
       " 'sumex': 10860,\n",
       " 'aim': 1209,\n",
       " 'stanford': 10629,\n",
       " '36': 489,\n",
       " '44': 575,\n",
       " 'report': 9469,\n",
       " 'compare': 2881,\n",
       " 'txt': 11537,\n",
       " '173': 146,\n",
       " '161': 129,\n",
       " 'documented': 3967,\n",
       " 'apple': 1421,\n",
       " 'said': 9849,\n",
       " 'maximum': 7182,\n",
       " 'synchronous': 10990,\n",
       " 'slower': 10391,\n",
       " 'interface': 6183,\n",
       " 'driven': 4063,\n",
       " 'true': 11483,\n",
       " 'win': 12134,\n",
       " 'downloaded': 4019,\n",
       " 'icons': 5811,\n",
       " 'bmp': 2037,\n",
       " 'figure': 4799,\n",
       " 'change': 2519,\n",
       " 'wallpaper': 11999,\n",
       " 'help': 5583,\n",
       " 'appreciated': 1435,\n",
       " 'thanx': 11182,\n",
       " 'board': 2043,\n",
       " 'year': 12353,\n",
       " 'licensing': 6801,\n",
       " 'technologies': 11097,\n",
       " 'owners': 8133,\n",
       " 'compression': 2938,\n",
       " 'technology': 11098,\n",
       " 'writing': 12259,\n",
       " 'memory': 7262,\n",
       " 'lost': 6938,\n",
       " 'reference': 9310,\n",
       " 'wrong': 12262,\n",
       " 'problems': 8813,\n",
       " 'hard': 5485,\n",
       " 'fault': 4722,\n",
       " 'icon': 5810,\n",
       " 'usually': 11748,\n",
       " 'mentioned': 7269,\n",
       " 'freeware': 5032,\n",
       " 'expansion': 4549,\n",
       " 'utility': 11755,\n",
       " 'dd': 3505,\n",
       " 'expand': 4545,\n",
       " 'compressed': 2937,\n",
       " 'unless': 11666,\n",
       " 'installed': 6118,\n",
       " 'product': 8835,\n",
       " 'unlikely': 11668,\n",
       " 'holes': 5667,\n",
       " 'related': 9376,\n",
       " 'fixed': 4858,\n",
       " 'sad': 9839,\n",
       " 'makes': 7063,\n",
       " 'reluctant': 9407,\n",
       " 'buy': 2279,\n",
       " 'hey': 5608,\n",
       " 'competition': 2900,\n",
       " '1978': 221,\n",
       " 'runs': 9802,\n",
       " 'paint': 8182,\n",
       " 'bronze': 2194,\n",
       " 'brown': 2199,\n",
       " 'orange': 8039,\n",
       " 'leaks': 6712,\n",
       " 'oil': 7968,\n",
       " 'pops': 8601,\n",
       " '1st': 271,\n",
       " 'shop': 10224,\n",
       " 'trans': 11390,\n",
       " 'leak': 6711,\n",
       " 'sold': 10444,\n",
       " 'bike': 1955,\n",
       " 'owner': 8132,\n",
       " 'thinking': 11211,\n",
       " '3k': 529,\n",
       " 'nice': 7752,\n",
       " 'stable': 10604,\n",
       " 'axis': 1723,\n",
       " 'motors': 7525,\n",
       " 'richardson': 9636,\n",
       " 'tx': 11536,\n",
       " 'org': 8053,\n",
       " 'dod': 3969,\n",
       " 'yep': 12362,\n",
       " 'pretty': 8753,\n",
       " 'jew': 6373,\n",
       " 'understand': 11626,\n",
       " 'jewish': 6374,\n",
       " 'jews': 6376,\n",
       " 'believe': 1895,\n",
       " 'covenant': 3278,\n",
       " 'abraham': 959,\n",
       " 'moses': 7502,\n",
       " 'case': 2418,\n",
       " 'establishes': 4434,\n",
       " 'moral': 7491,\n",
       " 'follow': 4923,\n",
       " 'mankind': 7088,\n",
       " 'decide': 3535,\n",
       " 'boundaries': 2113,\n",
       " 'fall': 4682,\n",
       " 'believed': 1896,\n",
       " 'torah': 11331,\n",
       " 'required': 9499,\n",
       " 'pharisees': 8402,\n",
       " 'ancestors': 1330,\n",
       " 'modern': 7447,\n",
       " 'judaism': 6434,\n",
       " 'interpretation': 6203,\n",
       " 'lead': 6701,\n",
       " 'morality': 7492,\n",
       " 'essence': 4428,\n",
       " 'biblical': 1945,\n",
       " 'man': 7071,\n",
       " 'christian': 2610,\n",
       " 'necessarily': 7679,\n",
       " 'indicate': 5993,\n",
       " 'outside': 8110,\n",
       " 'relationship': 9381,\n",
       " 'speculate': 10531,\n",
       " 'trouble': 11477,\n",
       " 'created': 3312,\n",
       " 'image': 5873,\n",
       " 'means': 7213,\n",
       " 'different': 3783,\n",
       " 'come': 2821,\n",
       " 'conclusion': 2975,\n",
       " 'cart': 2414,\n",
       " 'wants': 12006,\n",
       " 'script': 9974,\n",
       " 'shaky': 10156,\n",
       " 'foundation': 4996,\n",
       " 'mix': 7421,\n",
       " 'living': 6874,\n",
       " 'christ': 2609,\n",
       " 'example': 4490,\n",
       " 'little': 6866,\n",
       " 'jesus': 6370,\n",
       " 'person': 8380,\n",
       " 'recorded': 9280,\n",
       " 'followers': 4926,\n",
       " 'references': 9312,\n",
       " 'historians': 5635,\n",
       " 'revelation': 9599,\n",
       " 'aside': 1543,\n",
       " 'second': 10008,\n",
       " 'hand': 5454,\n",
       " 'worse': 12233,\n",
       " 'attempt': 1631,\n",
       " 'christianity': 2611,\n",
       " 'initially': 6068,\n",
       " 'bible': 1943,\n",
       " 'interpret': 6202,\n",
       " 'humanity': 5766,\n",
       " 'guess': 5400,\n",
       " 'faith': 4678,\n",
       " 'comes': 2823,\n",
       " 'inherent': 6058,\n",
       " 'absolute': 965,\n",
       " 'multiple': 7568,\n",
       " 'codes': 2762,\n",
       " 'founded': 4998,\n",
       " 'parent': 8225,\n",
       " 'child': 2586,\n",
       " 'swear': 10958,\n",
       " 'assume': 1581,\n",
       " 'simply': 10302,\n",
       " 'told': 11305,\n",
       " 'pub': 8972,\n",
       " 'bar': 1792,\n",
       " 'children': 2589,\n",
       " 'inappropriate': 5945,\n",
       " 'quite': 9093,\n",
       " 'happy': 5482,\n",
       " 'animals': 1349,\n",
       " 'analogy': 1323,\n",
       " 'hold': 5661,\n",
       " 'water': 12040,\n",
       " 'knows': 6575,\n",
       " 'type': 11540,\n",
       " 'incidentally': 5953,\n",
       " 'young': 12377,\n",
       " 'considers': 3060,\n",
       " 'directive': 3820,\n",
       " 'gets': 5209,\n",
       " 'older': 7976,\n",
       " 'david': 3491,\n",
       " 'religion': 9404,\n",
       " 'description': 3683,\n",
       " 'external': 4620,\n",
       " 'tank': 11046,\n",
       " 'option': 8034,\n",
       " 'ssf': 10599,\n",
       " 'redesign': 9293,\n",
       " 'deleted': 3608,\n",
       " 'yo': 12375,\n",
       " 'ken': 6500,\n",
       " 'let': 6764,\n",
       " 'orbiter': 8043,\n",
       " 'options': 8036,\n",
       " 'list': 6853,\n",
       " 'today': 11300,\n",
       " '23': 320,\n",
       " 'edition': 4172,\n",
       " 'york': 12376,\n",
       " 'times': 11275,\n",
       " 'reports': 9475,\n",
       " 'connor': 3038,\n",
       " 'panel': 8199,\n",
       " 'proposals': 8907,\n",
       " 'dropped': 4071,\n",
       " 'giant': 5219,\n",
       " 'fuel': 5068,\n",
       " 'tanks': 11047,\n",
       " 'launching': 6675,\n",
       " 'space': 10493,\n",
       " 'building': 2233,\n",
       " 'station': 10648,\n",
       " 'existing': 4537,\n",
       " 'shuttle': 10255,\n",
       " 'wings': 12148,\n",
       " 'tail': 11027,\n",
       " 'removed': 9433,\n",
       " 'currently': 3406,\n",
       " 'considered': 3058,\n",
       " 'presented': 8731,\n",
       " 'advisory': 1143,\n",
       " 'meeting': 7241,\n",
       " 'yesterday': 12366,\n",
       " 'reported': 9470,\n",
       " 'low': 6956,\n",
       " 'cost': 3247,\n",
       " 'modular': 7456,\n",
       " 'approach': 1436,\n",
       " 'studied': 10783,\n",
       " 'team': 11084,\n",
       " 'teams': 11085,\n",
       " 'jsc': 6430,\n",
       " 'larc': 6644,\n",
       " 'supporting': 10902,\n",
       " 'crystal': 3376,\n",
       " 'city': 2658,\n",
       " 'lerc': 6758,\n",
       " 'reston': 9560,\n",
       " 'site': 10328,\n",
       " 'locations': 6897,\n",
       " 'helping': 5586,\n",
       " 'respective': 9543,\n",
       " 'activities': 1061,\n",
       " 'key': 6509,\n",
       " 'features': 4747,\n",
       " 'bus': 2267,\n",
       " 'developed': 3737,\n",
       " 'lockheed': 6900,\n",
       " 'qualified': 9060,\n",
       " 'sts': 10777,\n",
       " 'provides': 8948,\n",
       " 'propulsion': 8914,\n",
       " 'gn': 5261,\n",
       " 'communications': 2865,\n",
       " 'management': 7074,\n",
       " 'air': 1213,\n",
       " 'force': 4948,\n",
       " 'power': 8657,\n",
       " 'capability': 2369,\n",
       " 'obtained': 7911,\n",
       " 'flights': 4888,\n",
       " 'solar': 10442,\n",
       " 'arrays': 1512,\n",
       " 'provide': 8943,\n",
       " 'vehicle': 11833,\n",
       " 'arrow': 1523,\n",
       " 'environment': 4374,\n",
       " 'missions': 7405,\n",
       " 'utilize': 11757,\n",
       " 'source': 10486,\n",
       " '30': 424,\n",
       " 'human': 5764,\n",
       " 'tended': 11132,\n",
       " 'opposed': 8020,\n",
       " 'old': 7975,\n",
       " 'achieved': 1034,\n",
       " 'common': 2859,\n",
       " 'module': 7458,\n",
       " 'modified': 7452,\n",
       " 'lab': 6603,\n",
       " 'docking': 3957,\n",
       " 'ports': 8619,\n",
       " 'added': 1079,\n",
       " 'international': 6199,\n",
       " 'partners': 8252,\n",
       " 'labs': 6611,\n",
       " 'place': 8493,\n",
       " 'nodes': 7781,\n",
       " '60': 685,\n",
       " 'esa': 4414,\n",
       " 'modules': 7459,\n",
       " 'permanent': 8365,\n",
       " 'presence': 8727,\n",
       " '3rd': 536,\n",
       " 'assured': 1589,\n",
       " 'return': 9588,\n",
       " 'freedom': 5027,\n",
       " 'derived': 3676,\n",
       " 'based': 1807,\n",
       " 'mike': 7344,\n",
       " 'griffin': 5369,\n",
       " 'alot': 1272,\n",
       " 'design': 3691,\n",
       " 'love': 6950,\n",
       " 'assumes': 1583,\n",
       " 'assembly': 1558,\n",
       " 'computed': 2948,\n",
       " '51': 632,\n",
       " 'inclination': 5955,\n",
       " 'orbit': 8041,\n",
       " 'build': 2231,\n",
       " 'occurs': 7928,\n",
       " 'initial': 6065,\n",
       " 'research': 9507,\n",
       " 'reached': 9203,\n",
       " 'transferred': 11395,\n",
       " 'visits': 11920,\n",
       " 'adopted': 1120,\n",
       " 'non': 7786,\n",
       " 'language': 6639,\n",
       " 'deployed': 3661,\n",
       " '10': 36,\n",
       " 'keeping': 6495,\n",
       " 'supply': 10897,\n",
       " 'tolerance': 11306,\n",
       " '14': 100,\n",
       " '2nd': 411,\n",
       " 'thermal': 11204,\n",
       " 'control': 3148,\n",
       " 'radiator': 9130,\n",
       " 'finish': 4833,\n",
       " '24': 331,\n",
       " 'systems': 11005,\n",
       " 'exception': 4496,\n",
       " 'major': 7057,\n",
       " 'changes': 2521,\n",
       " 'reduced': 9299,\n",
       " 'prices': 8767,\n",
       " 'forsale': 4979,\n",
       " 'behalf': 1881,\n",
       " 'brother': 2196,\n",
       " 'moving': 7541,\n",
       " 'moved': 7535,\n",
       " 'offer': 7948,\n",
       " 'black': 1996,\n",
       " 'portable': 8612,\n",
       " 'purchased': 9003,\n",
       " '12': 70,\n",
       " 'sr': 10593,\n",
       " '1000': 38,\n",
       " 'dual': 4089,\n",
       " 'cassette': 2422,\n",
       " 'player': 8528,\n",
       " 'fm': 4910,\n",
       " 'band': 1779,\n",
       " 'graphics': 5336,\n",
       " 'equalizer': 4390,\n",
       " 'high': 5617,\n",
       " 'tape': 11049,\n",
       " 'deck': 3542,\n",
       " 'sound': 10481,\n",
       " 'bet': 1930,\n",
       " '80': 804,\n",
       " '25': 346,\n",
       " 'zoom': 12417,\n",
       " 'japan': 6348,\n",
       " 'includes': 5959,\n",
       " 'accessories': 1001,\n",
       " '50': 625,\n",
       " '1400': 102,\n",
       " 'hair': 5442,\n",
       " 'dryer': 4082,\n",
       " 'head': 5537,\n",
       " 'ask': 1544,\n",
       " 'bag': 1764,\n",
       " 'leather': 6720,\n",
       " 'brand': 2140,\n",
       " 'speeds': 10537,\n",
       " 'extra': 4622,\n",
       " 'angle': 1345,\n",
       " 'spray': 10575,\n",
       " 'steam': 10669,\n",
       " 'dry': 4080,\n",
       " 'iron': 6282,\n",
       " 'contact': 3098,\n",
       " 'reply': 9467,\n",
       " 'included': 5958,\n",
       " 'lastly': 6658,\n",
       " 'reasonable': 9238,\n",
       " 'look': 6918,\n",
       " 'happened': 5476,\n",
       " 'japanese': 6349,\n",
       " 'citizens': 2656,\n",
       " 'war': 12007,\n",
       " 'ii': 5851,\n",
       " 'prepared': 8722,\n",
       " 'stick': 10692,\n",
       " 'concentration': 2961,\n",
       " 'camp': 2344,\n",
       " 'trial': 11451,\n",
       " 'short': 10229,\n",
       " 'step': 10678,\n",
       " 'nazis': 7655,\n",
       " 'originally': 8072,\n",
       " 'final': 4817,\n",
       " 'solution': 10455,\n",
       " 'partly': 8250,\n",
       " 'afford': 1166,\n",
       " 'run': 9798,\n",
       " 'camps': 2348,\n",
       " 'caused': 2444,\n",
       " 'total': 11341,\n",
       " 'weren': 12093,\n",
       " 'generally': 5170,\n",
       " 'died': 3773,\n",
       " 'disease': 3882,\n",
       " 'certainly': 2490,\n",
       " 'tiff': 11260,\n",
       " 'works': 12219,\n",
       " 'complexity': 2921,\n",
       " 'led': 6727,\n",
       " 'programs': 8860,\n",
       " 'poor': 8594,\n",
       " 'writers': 12257,\n",
       " 'making': 7064,\n",
       " 'bizarre': 1991,\n",
       " 'files': 4807,\n",
       " 'inability': 5942,\n",
       " 'load': 6883,\n",
       " 'images': 5875,\n",
       " 'save': 9898,\n",
       " 'general': 5168,\n",
       " 'environments': 4376,\n",
       " 'despite': 3707,\n",
       " 'fact': 4656,\n",
       " 'saying': 9907,\n",
       " 'goes': 5276,\n",
       " 'worried': 12229,\n",
       " 'abuse': 975,\n",
       " 'immense': 5887,\n",
       " 'unnecessary': 11677,\n",
       " 'format': 4969,\n",
       " 'words': 12212,\n",
       " 'spec': 10511,\n",
       " 'appendix': 1418,\n",
       " 'page': 8174,\n",
       " 'emphasis': 4263,\n",
       " 'sort': 10476,\n",
       " 'success': 10826,\n",
       " 'designed': 3694,\n",
       " 'powerful': 8660,\n",
       " 'flexible': 4886,\n",
       " 'expense': 4558,\n",
       " 'simplicity': 10299,\n",
       " 'takes': 11030,\n",
       " 'effort': 4197,\n",
       " 'handle': 5461,\n",
       " 'specification': 10521,\n",
       " 'application': 1426,\n",
       " 'complete': 2916,\n",
       " 'job': 6387,\n",
       " 'able': 952,\n",
       " 'import': 5918,\n",
       " 'generating': 5174,\n",
       " 'applications': 1427,\n",
       " 'program': 8853,\n",
       " 'won': 12199,\n",
       " 'deal': 3510,\n",
       " 'trapped': 11425,\n",
       " 'agrees': 1196,\n",
       " 'reasoning': 9241,\n",
       " 'asking': 1546,\n",
       " 'kind': 6538,\n",
       " 'rates': 9182,\n",
       " 'single': 10316,\n",
       " 'male': 7067,\n",
       " 'drivers': 4065,\n",
       " 'paying': 8298,\n",
       " 'performance': 8352,\n",
       " 'cars': 2412,\n",
       " 'replies': 9466,\n",
       " 'received': 9253,\n",
       " '27': 371,\n",
       " 'close': 2721,\n",
       " '1992': 238,\n",
       " 'dodge': 3970,\n",
       " 'stealth': 10668,\n",
       " 'rt': 9778,\n",
       " 'twin': 11531,\n",
       " 'turbo': 11513,\n",
       " 'tickets': 11256,\n",
       " 'accidents': 1005,\n",
       " 'house': 5736,\n",
       " 'taken': 11028,\n",
       " 'defensive': 3586,\n",
       " 'driving': 4068,\n",
       " 'abs': 962,\n",
       " 'security': 10026,\n",
       " 'alarm': 1227,\n",
       " '1500': 115,\n",
       " '500': 626,\n",
       " 'state': 10641,\n",
       " 'farm': 4706,\n",
       " 'insurance': 6139,\n",
       " 'additional': 1083,\n",
       " '100': 37,\n",
       " '000': 1,\n",
       " 'policy': 8578,\n",
       " 'standard': 10622,\n",
       " '300': 425,\n",
       " 'bought': 2106,\n",
       " 'company': 2876,\n",
       " 'accident': 1002,\n",
       " 'ticket': 11255,\n",
       " '11': 56,\n",
       " 'quoted': 9098,\n",
       " 'hope': 5701,\n",
       " 'helps': 5588,\n",
       " 'steve': 10688,\n",
       " 'university': 11661,\n",
       " '45': 579,\n",
       " 'kevin': 6508,\n",
       " 'remembered': 9423,\n",
       " 'correctly': 3234,\n",
       " 'asked': 1545,\n",
       " 'similar': 10288,\n",
       " 'situation': 10332,\n",
       " 'inquiry': 6093,\n",
       " 'age': 1178,\n",
       " 'eagle': 4129,\n",
       " 'talon': 11040,\n",
       " 'record': 9279,\n",
       " 'clean': 2688,\n",
       " 'illinois': 5864,\n",
       " 'turn': 11520,\n",
       " '520': 643,\n",
       " 'higher': 5618,\n",
       " 'rate': 9180,\n",
       " 'couple': 3267,\n",
       " 'friends': 5051,\n",
       " 'pay': 8297,\n",
       " 'ins': 6095,\n",
       " 'companies': 2874,\n",
       " 'lucky': 6972,\n",
       " 'dan': 3458,\n",
       " 'mot': 7506,\n",
       " 'motorola': 7524,\n",
       " 'cellular': 2471,\n",
       " 'group': 5379,\n",
       " '38': 505,\n",
       " 'usa': 11731,\n",
       " 'cc': 2454,\n",
       " 'live': 6869,\n",
       " 'norman': 7797,\n",
       " 'oklahoma': 7973,\n",
       " 'drive': 4061,\n",
       " '89': 837,\n",
       " 'sc': 9910,\n",
       " 'claim': 2668,\n",
       " 'negligent': 7693,\n",
       " 'stop': 10712,\n",
       " 'signs': 10281,\n",
       " 'radios': 9136,\n",
       " 'violations': 11901,\n",
       " '18': 154,\n",
       " 'months': 7483,\n",
       " 'going': 5277,\n",
       " '85': 824,\n",
       " '55': 652,\n",
       " 'failure': 4671,\n",
       " 'clear': 2693,\n",
       " 'intersection': 6211,\n",
       " 'damn': 3455,\n",
       " 'light': 6814,\n",
       " 'yellow': 12361,\n",
       " '35': 478,\n",
       " 'didn': 3771,\n",
       " 'passive': 8268,\n",
       " 'restraint': 9566,\n",
       " 'liability': 6781,\n",
       " 'comprehensive': 2935,\n",
       " 'collision': 2792,\n",
       " 'roughly': 9752,\n",
       " '1300': 89,\n",
       " '1100': 58,\n",
       " '92': 864,\n",
       " 'lx': 6987,\n",
       " 'james': 6342,\n",
       " 'law': 6676,\n",
       " 'center': 2476,\n",
       " 'uoknor': 11702,\n",
       " 'ucs': 11567,\n",
       " 'disclaimer': 3855,\n",
       " 'engineer': 4328,\n",
       " 'play': 8525,\n",
       " 'calls': 2334,\n",
       " 'thunder': 11250,\n",
       " 'bird': 1976,\n",
       " 'hell': 5578,\n",
       " 'thing': 11209,\n",
       " 'killing': 6534,\n",
       " 'away': 1715,\n",
       " 'gonna': 5282,\n",
       " '61': 695,\n",
       " 'experience': 4561,\n",
       " 'ago': 1190,\n",
       " 'interesting': 6180,\n",
       " 'owned': 8131,\n",
       " 'toyota': 11357,\n",
       " 'gt': 5389,\n",
       " 'decided': 3536,\n",
       " 'gift': 5224,\n",
       " 'exotic': 4543,\n",
       " 'runners': 9800,\n",
       " 'supra': 10910,\n",
       " 'porsche': 8610,\n",
       " '1987': 232,\n",
       " 'liked': 6820,\n",
       " 'handling': 5466,\n",
       " 'appeal': 1408,\n",
       " 'personal': 8381,\n",
       " 'luxury': 6985,\n",
       " 'acceleration': 987,\n",
       " 'ready': 9221,\n",
       " 'buying': 2282,\n",
       " 'impulse': 5941,\n",
       " 'agent': 1183,\n",
       " 'office': 7953,\n",
       " 'happen': 5475,\n",
       " 'classification': 2682,\n",
       " 'slight': 10378,\n",
       " 'newer': 7734,\n",
       " 'lower': 6958,\n",
       " 'risk': 9669,\n",
       " 'division': 3943,\n",
       " 'continue': 3121,\n",
       " 'account': 1016,\n",
       " 'double': 4009,\n",
       " '944': 870,\n",
       " 'story': 10723,\n",
       " 'cover': 3279,\n",
       " 'cancel': 2356,\n",
       " 'sense': 10076,\n",
       " 'book': 2072,\n",
       " 'says': 9908,\n",
       " 'insure': 6140,\n",
       " 'reason': 9237,\n",
       " 'traditional': 11377,\n",
       " 'conservative': 3051,\n",
       " 'eventually': 4469,\n",
       " 'reasons': 9242,\n",
       " 'dealer': 3511,\n",
       " 'salesman': 9859,\n",
       " 'interested': 6179,\n",
       " 'tough': 11347,\n",
       " 'pressure': 8747,\n",
       " 'guy': 5420,\n",
       " 'room': 9735,\n",
       " 'equal': 4389,\n",
       " 'monthly': 7482,\n",
       " 'payments': 8302,\n",
       " 'longer': 6916,\n",
       " 'concluded': 2973,\n",
       " 'probability': 8806,\n",
       " 'auto': 1680,\n",
       " 'theft': 11187,\n",
       " 'entitled': 4366,\n",
       " 'opinion': 8013,\n",
       " 'oasys': 7873,\n",
       " 'dt': 4086,\n",
       " 'navy': 7652,\n",
       " 'mil': 7345,\n",
       " 'imagination': 5877,\n",
       " 'important': 5920,\n",
       " 'albert': 1232,\n",
       " 'einstein': 4209,\n",
       " 'idaho': 5816,\n",
       " '26': 361,\n",
       " 'turned': 11521,\n",
       " 'immediately': 5886,\n",
       " '460': 586,\n",
       " 'strictly': 10752,\n",
       " 'stayed': 10660,\n",
       " '150': 114,\n",
       " 'pickup': 8447,\n",
       " 'amazing': 1291,\n",
       " 'woke': 12194,\n",
       " 'felt': 4772,\n",
       " 'responsible': 9554,\n",
       " '21': 297,\n",
       " 'california': 2328,\n",
       " 'violation': 11900,\n",
       " 'alfa': 1240,\n",
       " 'spider': 10550,\n",
       " '2000': 282,\n",
       " 'bargain': 1796,\n",
       " '28': 382,\n",
       " 'vw': 11967,\n",
       " 'san': 9868,\n",
       " ...}"
      ]
     },
     "execution_count": 7,
     "metadata": {},
     "output_type": "execute_result"
    }
   ],
   "source": [
    "vectorizer.vocabulary_"
   ]
  },
  {
   "cell_type": "markdown",
   "metadata": {
    "colab_type": "text",
    "id": "Ki7CwruhB1xN"
   },
   "source": [
    "Индекс, например, для слова anyone:"
   ]
  },
  {
   "cell_type": "code",
   "execution_count": 8,
   "metadata": {
    "colab": {
     "base_uri": "https://localhost:8080/",
     "height": 34
    },
    "colab_type": "code",
    "id": "N2XVuQu3B1xP",
    "outputId": "dc04f83b-482a-4598-cd3e-71f2fdcaa2fe"
   },
   "outputs": [
    {
     "data": {
      "text/plain": [
       "2383"
      ]
     },
     "execution_count": 8,
     "metadata": {},
     "output_type": "execute_result"
    }
   ],
   "source": [
    "vectorizer.vocabulary_.get('car')"
   ]
  },
  {
   "cell_type": "markdown",
   "metadata": {
    "colab_type": "text",
    "id": "H9ckeTs2B1xT"
   },
   "source": [
    "А теперь преобразуем строку в вектор:"
   ]
  },
  {
   "cell_type": "code",
   "execution_count": 9,
   "metadata": {
    "colab": {},
    "colab_type": "code",
    "id": "DKb4MKQBB1xU"
   },
   "outputs": [],
   "source": [
    "text = 'I was wondering if anyone out there could enlighten me on this car I saw'\n",
    "x = vectorizer.transform([text])"
   ]
  },
  {
   "cell_type": "markdown",
   "metadata": {
    "colab_type": "text",
    "id": "ULWh4DvrB1xX"
   },
   "source": [
    "Какой тип имеет объект, на который указывает ```x```?"
   ]
  },
  {
   "cell_type": "code",
   "execution_count": 10,
   "metadata": {
    "colab": {
     "base_uri": "https://localhost:8080/",
     "height": 34
    },
    "colab_type": "code",
    "id": "LSi_b4mIB1xX",
    "outputId": "8c3bbb1c-13da-4dd3-e12a-1a87058f54e2"
   },
   "outputs": [
    {
     "data": {
      "text/plain": [
       "scipy.sparse.csr.csr_matrix"
      ]
     },
     "execution_count": 10,
     "metadata": {},
     "output_type": "execute_result"
    }
   ],
   "source": [
    "type(x)"
   ]
  },
  {
   "cell_type": "markdown",
   "metadata": {
    "colab_type": "text",
    "id": "VdVtA7GmB1xZ"
   },
   "source": [
    "Разреженная матрица!"
   ]
  },
  {
   "cell_type": "markdown",
   "metadata": {
    "colab_type": "text",
    "id": "ugUSIc9PB1xa"
   },
   "source": [
    "### Отступление про разреженные матрицы"
   ]
  },
  {
   "cell_type": "markdown",
   "metadata": {
    "colab_type": "text",
    "id": "OB_zLEVBB1xa"
   },
   "source": [
    "Список ненулевых элементов матрицы:"
   ]
  },
  {
   "cell_type": "code",
   "execution_count": 11,
   "metadata": {
    "colab": {
     "base_uri": "https://localhost:8080/",
     "height": 34
    },
    "colab_type": "code",
    "id": "5ygEpbSSB1xb",
    "outputId": "def34294-ba6a-481f-8346-5502b1279db6"
   },
   "outputs": [
    {
     "data": {
      "text/plain": [
       "array([1, 1, 1, 1], dtype=int64)"
      ]
     },
     "execution_count": 11,
     "metadata": {},
     "output_type": "execute_result"
    }
   ],
   "source": [
    "x.data"
   ]
  },
  {
   "cell_type": "markdown",
   "metadata": {
    "colab_type": "text",
    "id": "tejzzkvFB1xd"
   },
   "source": [
    "Индексы строк и столбцов для ненулевых элементов:"
   ]
  },
  {
   "cell_type": "code",
   "execution_count": 12,
   "metadata": {
    "colab": {
     "base_uri": "https://localhost:8080/",
     "height": 51
    },
    "colab_type": "code",
    "id": "iYlLQ9WaB1xe",
    "outputId": "cf89901c-a082-4fc8-959c-f04dcf06eeab"
   },
   "outputs": [
    {
     "data": {
      "text/plain": [
       "(array([0, 0, 0, 0], dtype=int32),\n",
       " array([ 2383,  4343,  9905, 12203], dtype=int32))"
      ]
     },
     "execution_count": 12,
     "metadata": {},
     "output_type": "execute_result"
    }
   ],
   "source": [
    "x.nonzero()"
   ]
  },
  {
   "cell_type": "markdown",
   "metadata": {
    "colab_type": "text",
    "id": "43HhCWNTB1xg"
   },
   "source": [
    "Преобразование к объекту ndarray (именно после приведения к такому виду разреженные матрицы можно подставлять в функции, например, библиотеки Numpy):"
   ]
  },
  {
   "cell_type": "code",
   "execution_count": 13,
   "metadata": {
    "colab": {
     "base_uri": "https://localhost:8080/",
     "height": 34
    },
    "colab_type": "code",
    "id": "1U7rGrAYB1xh",
    "outputId": "5a9797a7-d8ec-4484-9daa-7f33593110ed"
   },
   "outputs": [
    {
     "data": {
      "text/plain": [
       "array([[0, 0, 0, ..., 0, 0, 0]], dtype=int64)"
      ]
     },
     "execution_count": 13,
     "metadata": {},
     "output_type": "execute_result"
    }
   ],
   "source": [
    "x.toarray()"
   ]
  },
  {
   "cell_type": "markdown",
   "metadata": {
    "colab_type": "text",
    "id": "rNcjGOXGB1xk"
   },
   "source": [
    "Вернемся к словарю. Раскодируем вектор ```x``` в список слов:"
   ]
  },
  {
   "cell_type": "code",
   "execution_count": 14,
   "metadata": {
    "colab": {
     "base_uri": "https://localhost:8080/",
     "height": 34
    },
    "colab_type": "code",
    "id": "_A38zVwvB1xk",
    "outputId": "4e516746-8f3e-4cad-8c20-64d0ee8fdc8e"
   },
   "outputs": [
    {
     "data": {
      "text/plain": [
       "[array(['car', 'enlighten', 'saw', 'wondering'], dtype='<U79')]"
      ]
     },
     "execution_count": 14,
     "metadata": {},
     "output_type": "execute_result"
    }
   ],
   "source": [
    "vectorizer.inverse_transform(x)"
   ]
  },
  {
   "cell_type": "markdown",
   "metadata": {
    "colab_type": "text",
    "id": "P4TuPHK1B1xm"
   },
   "source": [
    "Пропало слово ```I```. Но дело в том, что по умолчанию ```CountVectorizer``` отбрасывает последовательности, короче 2 символов. На это указывает параметр ```token_pattern='(?u)\\\\b\\\\w\\\\w+\\\\b'```."
   ]
  },
  {
   "cell_type": "markdown",
   "metadata": {
    "colab_type": "text",
    "id": "qZYK2sG_B1xn"
   },
   "source": [
    "Переведем весь набор текстов обучающего датасета в набор векторов, получим матрицу ```X_train```:"
   ]
  },
  {
   "cell_type": "code",
   "execution_count": 38,
   "metadata": {
    "colab": {
     "base_uri": "https://localhost:8080/",
     "height": 34
    },
    "colab_type": "code",
    "id": "Uhj_aRW7B1xn",
    "outputId": "76e48a96-b2ef-4512-a807-026daf579ece"
   },
   "outputs": [
    {
     "data": {
      "text/plain": [
       "(11314, 12424)"
      ]
     },
     "execution_count": 38,
     "metadata": {},
     "output_type": "execute_result"
    }
   ],
   "source": [
    "X_train = vectorizer.fit_transform(newsgroups_train.data)\n",
    "X_train.shape"
   ]
  },
  {
   "cell_type": "markdown",
   "metadata": {
    "colab_type": "text",
    "id": "DeYz7ZxuB1xs"
   },
   "source": [
    "О пользе разреженных матриц. Отношение числа ненулевых элементов ко всем элементам матрицы ```X_train```:"
   ]
  },
  {
   "cell_type": "code",
   "execution_count": 39,
   "metadata": {
    "colab": {
     "base_uri": "https://localhost:8080/",
     "height": 34
    },
    "colab_type": "code",
    "id": "lkc9UFcTB1xt",
    "outputId": "7eba71e7-52f1-4887-d02a-fde0418ceaf4"
   },
   "outputs": [
    {
     "data": {
      "text/plain": [
       "0.004060060810527014"
      ]
     },
     "execution_count": 39,
     "metadata": {},
     "output_type": "execute_result"
    }
   ],
   "source": [
    "X_train.nnz / np.prod(X_train.shape)"
   ]
  },
  {
   "cell_type": "markdown",
   "metadata": {
    "colab_type": "text",
    "id": "i9ZpBC7Sgauk"
   },
   "source": [
    "\n",
    "Задача: запустить модель LDA и Gibbs Sampling с числов тегов 20. Вывести топ-10 слов по каждому тегу. Соотнести полученные теги с тегами из датасета, сделать выводы.\n",
    "\n",
    "* заведем счетчики $n_{k, w}$, $n_{d, k}$, $n_k$, заполненные нулями"
   ]
  },
  {
   "cell_type": "code",
   "execution_count": 40,
   "metadata": {
    "colab": {},
    "colab_type": "code",
    "id": "Rn_580PkLCCj"
   },
   "outputs": [
    {
     "name": "stdout",
     "output_type": "stream",
     "text": [
      "(11314, 20) (20, 12424)\n"
     ]
    }
   ],
   "source": [
    "import random\n",
    "x,y = X_train.shape\n",
    "K = 20\n",
    "len_dict = len(vectorizer.vocabulary_)\n",
    "Dict = vectorizer.vocabulary_\n",
    "n_d_k = np.zeros(shape = (x,K))\n",
    "n_k_w = np.zeros(shape = (K,len_dict))\n",
    "n_k = np.zeros(shape = K)\n",
    "columns = X_train.nonzero()[1]\n",
    "rows = X_train.nonzero()[0]\n",
    "non_zero_len= X_train.data.shape[0]\n",
    "print(n_d_k.shape,n_k_w.shape)"
   ]
  },
  {
   "cell_type": "markdown",
   "metadata": {},
   "source": [
    "Обновим значения в X_train.data и назначим на их место числа от 1 до 20(номера тега)\n",
    "\n",
    "* случайным образом расставим теги словам, обновим счетчики $n_{k, w}$, $n_{d, k}$, $n_k$"
   ]
  },
  {
   "cell_type": "code",
   "execution_count": 41,
   "metadata": {},
   "outputs": [],
   "source": [
    "X_train.data = np.random.randint(low =1 ,high = 21,size = (non_zero_len,))"
   ]
  },
  {
   "cell_type": "markdown",
   "metadata": {},
   "source": [
    "Обновим наши три счётчика"
   ]
  },
  {
   "cell_type": "code",
   "execution_count": 42,
   "metadata": {},
   "outputs": [],
   "source": [
    "for i in range(non_zero_len):\n",
    "    n_k[X_train.data[i]-1] += 1\n",
    "    n_k_w[X_train.data[i]-1][columns[i]] += 1\n",
    "    n_d_k[rows[i]][X_train.data[i]-1] += 1"
   ]
  },
  {
   "cell_type": "markdown",
   "metadata": {},
   "source": [
    "Напишем алгоритм самого блуждания\n",
    "\n",
    "* пока не сойдемся к стационарному режиму:\n",
    "  * для каждого $i$ от 1 до $W$:\n",
    "      * $n_{d_i, z_i} \\mathrel{-}= 1$, $n_{z_i, w_i} \\mathrel{-}= 1$, $n_{z_i} \\mathrel{-}= 1$\n",
    "      * для каждого $k$ от 1 до $K$:\n",
    "        * вычисляем $p_k = (n_{d_i, k} + \\alpha_k) \\frac{n_{k, w_i} + \\beta_{w_i}}{n_k + \\beta_{sum}}$\n",
    "      * сэмплим новый $z_i$ из полученного распределения $(p_1, ..., p_K)$\n",
    "      * $n_{d_i, z_i} \\mathrel{+}= 1$, $n_{z_i, w_i} \\mathrel{+}= 1$, $n_{z_i} \\mathrel{+}= 1$\n"
   ]
  },
  {
   "cell_type": "code",
   "execution_count": 43,
   "metadata": {},
   "outputs": [],
   "source": [
    "from tqdm import tqdm\n",
    "def walk(niter,X_train,n_k,n_k_w,n_d_k,K):\n",
    "    \n",
    "    non_zero_len= X_train.data.shape[0]\n",
    "    columns = X_train.nonzero()[1]\n",
    "    rows = X_train.nonzero()[0]\n",
    "    non_zero = X_train.data\n",
    "    \n",
    "    a = np.ones(K)\n",
    "    b = np.ones(X_train.shape[1])\n",
    "    b_summ = b.sum()\n",
    "    num = list(np.arange(0,K)+1)\n",
    "    \n",
    "    for j in tqdm(range(niter)):\n",
    "        for i in range(non_zero_len):\n",
    "                n_k[non_zero[i]-1] -= 1\n",
    "                n_k_w[non_zero[i]-1][columns[i]] -= 1\n",
    "                n_d_k[rows[i]][non_zero[i]-1] -= 1\n",
    "                \n",
    "                probability = np.array([(n_d_k[rows[i]][c]+a[c])*(n_k_w[c][columns[i]]+b[columns[i]])/(n_k[c]+b_summ)\n",
    "                                                                                                        for c in range(K)])\n",
    "                non_zero[i] = int(random.choices(num, weights =  probability/probability.sum())[0])\n",
    "                \n",
    "                n_k[non_zero[i]-1] += 1\n",
    "                n_k_w[non_zero[i]-1][columns[i]] += 1\n",
    "                n_d_k[rows[i]][non_zero[i]-1] += 1\n",
    "#         print(f'Номер прошедшей итерации: {j}')\n",
    "    return non_zero,n_k,n_k_w,n_d_k"
   ]
  },
  {
   "cell_type": "code",
   "execution_count": 44,
   "metadata": {},
   "outputs": [
    {
     "name": "stderr",
     "output_type": "stream",
     "text": [
      "100%|██████████████████████████████████████████████████████████████████████████████████| 50/50 [22:23<00:00, 27.21s/it]\n"
     ]
    }
   ],
   "source": [
    "rezult,_,n_k_w,_ = walk(50,X_train,n_k,n_k_w,n_d_k,K)"
   ]
  },
  {
   "cell_type": "markdown",
   "metadata": {},
   "source": [
    "Вывести топ-10 слов по каждому тегу. Соотнести полученные теги с тегами из датасета, сделать выводы."
   ]
  },
  {
   "cell_type": "code",
   "execution_count": 45,
   "metadata": {},
   "outputs": [],
   "source": [
    "maximus = np.zeros(shape = (K,10),dtype = int)\n",
    "for ni in range(10):\n",
    "    maxis = np.zeros(K,dtype = int)\n",
    "    for i in range(len_dict):\n",
    "        maxis = [i if n_k_w[j][i]>n_k_w[j][maxis[j]] else maxis[j] for j in range(K)]\n",
    "    for j in range(K):\n",
    "        maximus[j][ni] = maxis[j]\n",
    "        n_k_w[j][maxis[j]] = 0"
   ]
  },
  {
   "cell_type": "code",
   "execution_count": 46,
   "metadata": {},
   "outputs": [
    {
     "name": "stdout",
     "output_type": "stream",
     "text": [
      "Топик 0\t\tactually ago doing got idea read sorry sure tell yes\n",
      "Топик 1\t\t10 11 12 13 14 15 16 20 25 30\n",
      "Топик 2\t\tcondition edu interested mail offer old power price sale sell\n",
      "Топик 3\t\tbanks case cause edu gordon having lot pitt probably soon\n",
      "Топик 4\t\taddress com edu group information list mail message number send\n",
      "Топик 5\t\tarticle end information interested news number post results study university\n",
      "Топик 6\t\tcome day didn going got said saw thought told went\n",
      "Топик 7\t\tbit card disk drive hard pc software using video windows\n",
      "Топик 8\t\t02 14 ah ca end hi mr ms ok sp\n",
      "Топик 9\t\tclinton fact government key law legal private public rights state\n",
      "Топик 10\t\tcost earth high low nasa project research space using years\n",
      "Топик 11\t\tbetter game games league play players season team win year\n",
      "Топик 12\t\tbelieve course doesn getting maybe sure tell thought wrong yes\n",
      "Топик 13\t\tbetter bike car cars engine going little ll look thing\n",
      "Топик 14\t\tal com dave edu email internet look phone reply thank\n",
      "Топик 15\t\tgovernment israel israeli jews killed land state war world years\n",
      "Топик 16\t\tbelieve fact god jesus life mean point read things true\n",
      "Топик 17\t\tactually called case doubt look mail seen stuff thing years\n",
      "Топик 18\t\tcode file files help program running set using window windows\n",
      "Топик 19\t\tanybody david heard help kind looking post question sounds stuff\n"
     ]
    }
   ],
   "source": [
    "for i in range(K):\n",
    "    dat = np.zeros((1, len_dict))\n",
    "    for word in maximus[i]:\n",
    "        dat[0, word] = 1\n",
    "    print('Топик {}\\t\\t{}'.format(i,' '.join(vectorizer.inverse_transform(dat)[0])))"
   ]
  },
  {
   "cell_type": "markdown",
   "metadata": {},
   "source": [
    "Выводы:\n",
    "а)воспользовавшись советом Ильи, я сжал пороги частотности для слов, таким образом словарь уменьшился в $\\approx$ 9 раз.\n",
    "\n",
    "б) Можем сопоставить 10 главных слов с возможными темами,тогда получится:\n",
    "  0)  \n",
    "  \n",
    "  1)  Циферки (misc.forsale)\n",
    "  \n",
    "  2)  Тема про политиков(talk.politics.misc)\n",
    "  \n",
    "  3)  \n",
    "  \n",
    "  4)  \n",
    "  \n",
    "  5)  \n",
    "  \n",
    "  6)  Тема про жёсткие диски и тд.(comp.sys.ibm.pc.hardware)\n",
    "  \n",
    "  7)  \n",
    "  \n",
    "  8)\n",
    "  \n",
    "  9)  Тема про космос(sci.space)\n",
    "  \n",
    "  10) Тема про игры\n",
    "  \n",
    "  11) \n",
    "  \n",
    "  12) Тема про машины и байки\n",
    "  \n",
    "  13) Тема про \n",
    "  \n",
    "  14) Тема про войну и убийства (talk.politics.guns)\n",
    "  \n",
    "  15) Тема связанная с богом(soc.religion.christian)\n",
    "  \n",
    "  16) \n",
    "  \n",
    "  17) \n",
    "  \n",
    "  18) Тема связанная с компьтерами и windows(comp.os.ms-windows.misc)\n",
    "  \n",
    "  19) \n",
    "  "
   ]
  },
  {
   "cell_type": "code",
   "execution_count": 47,
   "metadata": {},
   "outputs": [
    {
     "data": {
      "text/plain": [
       "['alt.atheism',\n",
       " 'comp.graphics',\n",
       " 'comp.os.ms-windows.misc',\n",
       " 'comp.sys.ibm.pc.hardware',\n",
       " 'comp.sys.mac.hardware',\n",
       " 'comp.windows.x',\n",
       " 'misc.forsale',\n",
       " 'rec.autos',\n",
       " 'rec.motorcycles',\n",
       " 'rec.sport.baseball',\n",
       " 'rec.sport.hockey',\n",
       " 'sci.crypt',\n",
       " 'sci.electronics',\n",
       " 'sci.med',\n",
       " 'sci.space',\n",
       " 'soc.religion.christian',\n",
       " 'talk.politics.guns',\n",
       " 'talk.politics.mideast',\n",
       " 'talk.politics.misc',\n",
       " 'talk.religion.misc']"
      ]
     },
     "execution_count": 47,
     "metadata": {},
     "output_type": "execute_result"
    }
   ],
   "source": [
    "newsgroups_train.target_names"
   ]
  },
  {
   "cell_type": "code",
   "execution_count": null,
   "metadata": {},
   "outputs": [],
   "source": []
  }
 ],
 "metadata": {
  "colab": {
   "collapsed_sections": [],
   "name": "Topic Modeling",
   "provenance": []
  },
  "kernelspec": {
   "display_name": "Python 3",
   "language": "python",
   "name": "python3"
  },
  "language_info": {
   "codemirror_mode": {
    "name": "ipython",
    "version": 3
   },
   "file_extension": ".py",
   "mimetype": "text/x-python",
   "name": "python",
   "nbconvert_exporter": "python",
   "pygments_lexer": "ipython3",
   "version": "3.7.0"
  }
 },
 "nbformat": 4,
 "nbformat_minor": 1
}
