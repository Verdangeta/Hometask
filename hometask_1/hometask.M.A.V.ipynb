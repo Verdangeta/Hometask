{
 "cells": [
  {
   "cell_type": "code",
   "execution_count": null,
   "metadata": {},
   "outputs": [],
   "source": [
    "#write a program that prints out all the elements of the list that are less than 5\n",
    "n=int(input(\"input number: \"))\n",
    "st=list(map(int,input(\"input string of numbers: \").split()))\n",
    "ot=[]\n",
    "for i in st:\n",
    "    if i<n:\n",
    "         ot.append(i)           \n",
    "print(ot)\n"
   ]
  },
  {
   "cell_type": "code",
   "execution_count": null,
   "metadata": {},
   "outputs": [],
   "source": [
    "#Create a program that asks the user for a number and \n",
    "#then prints out a list of all the divisors of that number.\n",
    "n=int(input(\"input your number: \"))\n",
    "out=[]\n",
    "for i in range(1,n+1):\n",
    "    if n % i==0:\n",
    "        out.append(i)\n",
    "print(out)        "
   ]
  },
  {
   "cell_type": "code",
   "execution_count": null,
   "metadata": {},
   "outputs": [],
   "source": [
    "#program that returns a list that contains only the elements \n",
    "#that are common between the lists (without duplicates). \n",
    "a=list(map(int,input(\"input string_1 of numbers: \").split()))\n",
    "b=list(map(int,input(\"input string_2 of numbers: \").split()))\n",
    "out=[]\n",
    "for i in a:\n",
    "    if i in b and not i in out:\n",
    "                 out.append(i)\n",
    "print(out)"
   ]
  },
  {
   "cell_type": "code",
   "execution_count": null,
   "metadata": {},
   "outputs": [],
   "source": [
    "#Ask the user for a string and print out whether this string is a palindrome or not. \n",
    "str=input(\"input string: \")\n",
    "p=1\n",
    "for i in range(1,len(str)):\n",
    "    if str[i-1]!=str[-i]:\n",
    "        p=0\n",
    "if p==1: print(\"This is palindrome! \")\n",
    "else: print(\"This is't palindrome! \")"
   ]
  },
  {
   "cell_type": "code",
   "execution_count": null,
   "metadata": {},
   "outputs": [],
   "source": [
    "#Write one line of Python that takes this list a and makes a new list that has only the even elements \n",
    "#of this list in it.\n",
    "str=list(map(int,input(\"input string: \").split()))\n",
    "out=[x for x in str if x % 2==0]\n",
    "print(out)"
   ]
  },
  {
   "cell_type": "code",
   "execution_count": 1,
   "metadata": {},
   "outputs": [
    {
     "name": "stdout",
     "output_type": "stream",
     "text": [
      "input your figure Player One: R\n",
      "input your figure Player Two: R\n",
      "DRAW!\n",
      "Would you like continue? YES\n",
      "input your figure Player One: R\n",
      "input your figure Player Two: S\n",
      "Player One WIN!\n",
      "Would you like continue? no\n"
     ]
    }
   ],
   "source": [
    "#Make a two-player Rock-Paper-Scissors game. \n",
    "while True:\n",
    "    a=input(\"input your figure Player One: \" )\n",
    "    b=input(\"input your figure Player Two: \" )\n",
    "    if a==\"R\" and b==\"R\" or a==\"P\" and b==\"P\" or a==\"S\" and b==\"S\":\n",
    "        print(\"DRAW!\")\n",
    "    elif a==\"R\" and b==\"S\" or a==\"S\" and b==\"P\" or a==\"P\" and b==\"R\":\n",
    "        print(\"Player One WIN!\")\n",
    "    else: print(\"Player Two WIN!\")\n",
    "    if input(\"Would you like continue? \")==\"no\":\n",
    "        break\n",
    "    "
   ]
  },
  {
   "cell_type": "code",
   "execution_count": null,
   "metadata": {},
   "outputs": [],
   "source": []
  }
 ],
 "metadata": {
  "kernelspec": {
   "display_name": "Python 3",
   "language": "python",
   "name": "python3"
  },
  "language_info": {
   "codemirror_mode": {
    "name": "ipython",
    "version": 3
   },
   "file_extension": ".py",
   "mimetype": "text/x-python",
   "name": "python",
   "nbconvert_exporter": "python",
   "pygments_lexer": "ipython3",
   "version": "3.7.0"
  }
 },
 "nbformat": 4,
 "nbformat_minor": 2
}
