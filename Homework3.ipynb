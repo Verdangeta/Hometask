{
 "cells": [
  {
   "cell_type": "code",
   "execution_count": null,
   "metadata": {},
   "outputs": [],
   "source": [
    "import matplotlib.pyplot as plt\n",
    "import numpy as np\n",
    "from sklearn.datasets import load_digits"
   ]
  },
  {
   "cell_type": "code",
   "execution_count": null,
   "metadata": {},
   "outputs": [],
   "source": [
    "def get_labels(pts, centroids,klusters):\n",
    "    y=True\n",
    "    check=np.zeros(pts.shape[0]).T\n",
    "    while y:\n",
    "        #Посчитаем расстояния до центров\n",
    "        dist=np.linalg.norm(pts-centroids[0,:],axis=1)\n",
    "        for i in range(klusters-1):\n",
    "            dist0 = np.linalg.norm(pts-centroids[i+1,:],axis=1)\n",
    "            #Построим матрицу, где по столбцам записаны расстояния до пронумерованных центров\n",
    "            dist=np.vstack((dist, dist0))\n",
    "        dist=dist.T\n",
    "        #Получим метки для каждой точки\n",
    "        labels=np.argmin(dist,axis=1)\n",
    "        #Пересчитаем центры\n",
    "        offset=np.zeros((10,64))\n",
    "        for i in range(klusters):\n",
    "            offset[i]=np.mean(pts[labels==i,:],axis=0).copy()\n",
    "        print(labels,check,sep='\\n\\n')\n",
    "        a=input()\n",
    "        if (labels==check).all():\n",
    "            y=False\n",
    "        else:\n",
    "            centroids=offset.copy()\n",
    "            check=labels.copy()\n",
    "    return labels\n"
   ]
  },
  {
   "cell_type": "code",
   "execution_count": null,
   "metadata": {},
   "outputs": [],
   "source": [
    "digits = load_digits()\n",
    "#Поменяем размерности для применения K-means \n",
    "Newdigits=digits.images.reshape(digits.images.shape[0],64)\n",
    "#Применим K-means\n",
    "centroids = np.random.randint(0,16, (10,64))\n",
    "labels = get_labels(Newdigits,centroids,10)"
   ]
  },
  {
   "cell_type": "code",
   "execution_count": null,
   "metadata": {},
   "outputs": [],
   "source": []
  }
 ],
 "metadata": {
  "kernelspec": {
   "display_name": "Python 3",
   "language": "python",
   "name": "python3"
  },
  "language_info": {
   "codemirror_mode": {
    "name": "ipython",
    "version": 3
   },
   "file_extension": ".py",
   "mimetype": "text/x-python",
   "name": "python",
   "nbconvert_exporter": "python",
   "pygments_lexer": "ipython3",
   "version": "3.7.0"
  }
 },
 "nbformat": 4,
 "nbformat_minor": 2
}
